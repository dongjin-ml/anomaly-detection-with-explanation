{
 "cells": [
  {
   "cell_type": "markdown",
   "id": "8f3dd71b-f63a-4106-b323-67be004b482e",
   "metadata": {},
   "source": [
    "# <B> Setup for Anormaly Detection with SageMaker </B>\n",
    "* Container: codna_python3"
   ]
  },
  {
   "cell_type": "markdown",
   "id": "aaeaff49-a119-4a0c-b48a-f66ab721c458",
   "metadata": {},
   "source": [
    "## AutoReload"
   ]
  },
  {
   "cell_type": "code",
   "execution_count": null,
   "id": "9f8f8f99-aaa0-42f9-8695-c8bd1884504c",
   "metadata": {
    "tags": []
   },
   "outputs": [],
   "source": [
    "%load_ext autoreload\n",
    "%autoreload 2"
   ]
  },
  {
   "cell_type": "markdown",
   "id": "78872034-4b66-45e4-983f-726a94459873",
   "metadata": {
    "tags": []
   },
   "source": [
    "## 0. Install packages"
   ]
  },
  {
   "cell_type": "code",
   "execution_count": null,
   "id": "ee290bd6-1b9b-44d5-8746-14412ea3ca96",
   "metadata": {
    "tags": []
   },
   "outputs": [],
   "source": [
    "install_needed = True  # should only be True once\n",
    "# install_needed = False"
   ]
  },
  {
   "cell_type": "code",
   "execution_count": null,
   "id": "6594574f-22e6-4237-a573-5598e0246727",
   "metadata": {
    "tags": []
   },
   "outputs": [],
   "source": [
    "%%bash\n",
    "#!/bin/bash\n",
    "\n",
    "DAEMON_PATH=\"/etc/docker\"\n",
    "MEMORY_SIZE=10G\n",
    "\n",
    "FLAG=$(cat $DAEMON_PATH/daemon.json | jq 'has(\"data-root\")')\n",
    "# echo $FLAG\n",
    "\n",
    "if [ \"$FLAG\" == true ]; then\n",
    "    echo \"Already revised\"\n",
    "else\n",
    "    echo \"Add data-root and default-shm-size=$MEMORY_SIZE\"\n",
    "    sudo cp $DAEMON_PATH/daemon.json $DAEMON_PATH/daemon.json.bak\n",
    "    sudo cat $DAEMON_PATH/daemon.json.bak | jq '. += {\"data-root\":\"/home/ec2-user/SageMaker/.container/docker\",\"default-shm-size\":\"'$MEMORY_SIZE'\"}' | sudo tee $DAEMON_PATH/daemon.json > /dev/null\n",
    "    sudo service docker restart\n",
    "    echo \"Docker Restart\"\n",
    "fi"
   ]
  },
  {
   "cell_type": "code",
   "execution_count": null,
   "id": "f21840e5-9ecf-4e9c-9736-d2174cd413e2",
   "metadata": {
    "scrolled": true,
    "tags": []
   },
   "outputs": [],
   "source": [
    "import sys\n",
    "import IPython\n",
    "\n",
    "if install_needed:\n",
    "    print(\"installing deps and restarting kernel\")\n",
    "    !{sys.executable} -m pip install -U pip\n",
    "    !{sys.executable} -m pip install -U awswrangler #==2.20.1\n",
    "    !{sys.executable} -m pip install -U sagemaker\n",
    "    !{sys.executable} -m pip install -U datasets transformers s3fs\n",
    "    !sudo curl -L \"https://github.com/docker/compose/releases/download/v2.26.1/docker-compose-$(uname -s)-$(uname -m)\" -o /usr/local/bin/docker-compose\n",
    "    !sudo chmod +x /usr/local/bin/docker-compose\n",
    "        \n",
    "    IPython.Application.instance().kernel.do_shutdown(True)"
   ]
  },
  {
   "cell_type": "markdown",
   "id": "87fe7a4b-03e1-4422-8bd5-62d30e0a419f",
   "metadata": {},
   "source": [
    "## 1. Set default parameters"
   ]
  },
  {
   "cell_type": "code",
   "execution_count": null,
   "id": "e5e8ad58-6a1e-41b4-88e5-aec263ef935e",
   "metadata": {
    "tags": []
   },
   "outputs": [],
   "source": [
    "import boto3\n",
    "import sagemaker"
   ]
  },
  {
   "cell_type": "markdown",
   "id": "92d651c6-93ad-463b-905a-d9978bd748a7",
   "metadata": {},
   "source": [
    "### Bucket / Prefix 설정"
   ]
  },
  {
   "cell_type": "code",
   "execution_count": null,
   "id": "659a6734-542a-4f79-b4bb-726408709308",
   "metadata": {
    "tags": []
   },
   "outputs": [],
   "source": [
    "strRegionName = boto3.Session().region_name\n",
    "strAccountId = boto3.client(\"sts\").get_caller_identity().get(\"Account\")\n",
    "strBucketName = 'sm-anomaly-detection-dongjin' # <-- 사용할 bucket 명을 추가해 주세요. ex) sagemaker-us-east-1-123456789123, sm-nemo-bucket\n",
    "strPrefix = 'ad-ts' ## <-- 작업할 prefix 명을 추가해 주세요. ex) nemo-test, nemo-asr"
   ]
  },
  {
   "cell_type": "markdown",
   "id": "66618f51-efdf-4336-8712-acf2201f5aab",
   "metadata": {},
   "source": [
    "## 2. Extract & Upload dataset"
   ]
  },
  {
   "cell_type": "code",
   "execution_count": null,
   "id": "693ac722-d6d3-4ae0-8787-27dd7a3a11cc",
   "metadata": {
    "tags": []
   },
   "outputs": [],
   "source": [
    "import os\n",
    "from utils.s3 import s3_handler"
   ]
  },
  {
   "cell_type": "code",
   "execution_count": null,
   "id": "6ff6a2f4-f76d-4dff-9e15-009650716c79",
   "metadata": {
    "tags": []
   },
   "outputs": [],
   "source": [
    "strLocalDataPath = \"./data\"\n",
    "!tar -zxvf $strLocalDataPath/data.tar.gz --directory=data"
   ]
  },
  {
   "cell_type": "markdown",
   "id": "02437135-a31a-4e69-9dda-25c0a0d54af2",
   "metadata": {},
   "source": [
    "* create bucket"
   ]
  },
  {
   "cell_type": "code",
   "execution_count": null,
   "id": "a1737b20-1b67-4083-8c9a-4b602d5edd77",
   "metadata": {
    "tags": []
   },
   "outputs": [],
   "source": [
    "s3 = s3_handler(strRegionName)"
   ]
  },
  {
   "cell_type": "code",
   "execution_count": null,
   "id": "1705cdc0-9540-4f8c-89a9-7d11174f1334",
   "metadata": {
    "tags": []
   },
   "outputs": [],
   "source": [
    "import boto3\n",
    "s3_client = boto3.client('s3')\n",
    "s3_client.create_bucket(Bucket=strBucketName)"
   ]
  },
  {
   "cell_type": "markdown",
   "id": "3ac1ad94-a3d0-49a2-b16a-35887875ed54",
   "metadata": {},
   "source": [
    "* updoad data to s3"
   ]
  },
  {
   "cell_type": "code",
   "execution_count": null,
   "id": "95e9f4ec-f3ad-4a63-aa4a-425615aea2c8",
   "metadata": {
    "tags": []
   },
   "outputs": [],
   "source": [
    "source_dir, target_bucket, target_dir = strLocalDataPath, strBucketName, \"data\"\n",
    "s3.upload_dir(source_dir, target_bucket, target_dir)"
   ]
  },
  {
   "cell_type": "markdown",
   "id": "79d1cc04-a7d2-47a2-bdeb-0357a67aa775",
   "metadata": {},
   "source": [
    "## 3. 파라미터 저장/활용"
   ]
  },
  {
   "cell_type": "code",
   "execution_count": null,
   "id": "0d074104-5c46-489b-982a-4e3801697757",
   "metadata": {
    "tags": []
   },
   "outputs": [],
   "source": [
    "# 변수 저장\n",
    "%store strPrefix\n",
    "%store strRegionName\n",
    "%store strBucketName\n",
    "%store strAccountId"
   ]
  },
  {
   "cell_type": "code",
   "execution_count": null,
   "id": "9b42a2b6-32c9-416d-bd8c-9f5a2b871c99",
   "metadata": {},
   "outputs": [],
   "source": []
  }
 ],
 "metadata": {
  "instance_type": "ml.t3.medium",
  "kernelspec": {
   "display_name": "conda_pytorch_p310",
   "language": "python",
   "name": "conda_pytorch_p310"
  },
  "language_info": {
   "codemirror_mode": {
    "name": "ipython",
    "version": 3
   },
   "file_extension": ".py",
   "mimetype": "text/x-python",
   "name": "python",
   "nbconvert_exporter": "python",
   "pygments_lexer": "ipython3",
   "version": "3.10.14"
  },
  "vscode": {
   "interpreter": {
    "hash": "1f4a227f2552de404565d6626d9115986c409361ad6ef0bf195ad88ccd012b73"
   }
  }
 },
 "nbformat": 4,
 "nbformat_minor": 5
}
