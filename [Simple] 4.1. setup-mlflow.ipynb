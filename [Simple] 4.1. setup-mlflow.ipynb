{
 "cells": [
  {
   "cell_type": "markdown",
   "id": "02127090-ee33-4005-b5af-5f4e386ed1a6",
   "metadata": {},
   "source": [
    "# How to Setup Amazon SageMaker with MLflow"
   ]
  },
  {
   "cell_type": "markdown",
   "id": "557f10ee-714a-4378-9493-abe2cd010754",
   "metadata": {},
   "source": [
    "This notebook's CI test result for us-west-2 is as follows. CI test results in other regions can be found at the end of the notebook.\n",
    "\n",
    "![This us-west-2 badge failed to load. Check your device's internet connectivity, otherwise the service is currently unavailable](https://prod.us-west-2.tcx-beacon.docs.aws.dev/sagemaker-nb/us-west-2/sagemaker-mlflow|sagemaker_mlflow_setup.ipynb)"
   ]
  },
  {
   "cell_type": "markdown",
   "id": "9f09f362-71a7-409c-a4c7-0ee5e59c1581",
   "metadata": {},
   "source": [
    "## 1. Updates"
   ]
  },
  {
   "cell_type": "code",
   "execution_count": 1,
   "id": "cd83cc42-fc1e-49cd-88e3-7a685add2404",
   "metadata": {
    "scrolled": true,
    "tags": []
   },
   "outputs": [],
   "source": [
    "!pip install -U --quiet boto3 sagemaker sagemaker-mlflow\n",
    "!pip install --quiet mlflow==2.13.2 #sagemaker-mlflow==0.1.0"
   ]
  },
  {
   "cell_type": "markdown",
   "id": "44407e0a-8ce0-4464-ac34-6ca0c821707e",
   "metadata": {},
   "source": [
    "## 2. MLFlow Information"
   ]
  },
  {
   "cell_type": "code",
   "execution_count": 2,
   "id": "20d535f6-6dd2-4c5c-99e3-8b428c052c70",
   "metadata": {
    "tags": []
   },
   "outputs": [],
   "source": [
    "tracking_server_name = \"mlflow-d-mbjfccgc4fn5\"\n",
    "tracking_server_arn = \"arn:aws:sagemaker:us-east-1:205457763032:mlflow-tracking-server/mlflow-d-mbjfccgc4fn5\""
   ]
  },
  {
   "cell_type": "code",
   "execution_count": 3,
   "id": "ddff09d7-73aa-4f77-b437-1e8c05c59ea2",
   "metadata": {
    "tags": []
   },
   "outputs": [
    {
     "data": {
      "text/plain": [
       "{'TrackingServerArn': 'arn:aws:sagemaker:us-east-1:165500596430:mlflow-tracking-server/mlflow-d-dpxoi9pfbmhz',\n",
       " 'TrackingServerName': 'mlflow-d-dpxoi9pfbmhz',\n",
       " 'ArtifactStoreUri': 's3://sagemaker-studio-165500596430-fc675670/mlflow/d-dpxoi9pfbmhz',\n",
       " 'TrackingServerSize': 'Small',\n",
       " 'MlflowVersion': '2.16.2',\n",
       " 'RoleArn': 'arn:aws:iam::165500596430:role/service-role/AmazonSageMakerExecutionRole-sagemaker-stack',\n",
       " 'TrackingServerStatus': 'Created',\n",
       " 'IsActive': 'Active',\n",
       " 'TrackingServerUrl': 'https://t-cqrzr6ru3noz.us-east-1.experiments.sagemaker.aws',\n",
       " 'WeeklyMaintenanceWindowStart': 'Fri:09:30',\n",
       " 'AutomaticModelRegistration': True,\n",
       " 'CreationTime': datetime.datetime(2025, 2, 18, 10, 24, 18, 178000, tzinfo=tzlocal()),\n",
       " 'CreatedBy': {},\n",
       " 'LastModifiedTime': datetime.datetime(2025, 2, 18, 10, 24, 18, 178000, tzinfo=tzlocal()),\n",
       " 'LastModifiedBy': {},\n",
       " 'ResponseMetadata': {'RequestId': '05d785a7-7fec-45ad-a1eb-780252212cb1',\n",
       "  'HTTPStatusCode': 200,\n",
       "  'HTTPHeaders': {'x-amzn-requestid': '05d785a7-7fec-45ad-a1eb-780252212cb1',\n",
       "   'content-type': 'application/x-amz-json-1.1',\n",
       "   'content-length': '710',\n",
       "   'date': 'Tue, 18 Feb 2025 12:14:53 GMT'},\n",
       "  'RetryAttempts': 0}}"
      ]
     },
     "execution_count": 3,
     "metadata": {},
     "output_type": "execute_result"
    }
   ],
   "source": [
    "import boto3\n",
    "\n",
    "sm_client = boto3.client(\"sagemaker\")\n",
    "sm_client.describe_mlflow_tracking_server(TrackingServerName=tracking_server_name)"
   ]
  },
  {
   "cell_type": "markdown",
   "id": "41009d0a-bfe9-4992-a6eb-d48af731f499",
   "metadata": {},
   "source": [
    "* save tracking server arn"
   ]
  },
  {
   "cell_type": "markdown",
   "id": "073d12e9-b91e-4c0c-93d1-8cae66648e49",
   "metadata": {},
   "source": [
    "## 3. MLflow tracking test"
   ]
  },
  {
   "cell_type": "markdown",
   "id": "ad90cde7-9de2-4df7-80a5-010165edafce",
   "metadata": {},
   "source": [
    "Connect to tracking server"
   ]
  },
  {
   "cell_type": "code",
   "execution_count": 4,
   "id": "a7a43ce7-3e9a-4b47-b051-9f59522ee43f",
   "metadata": {},
   "outputs": [
    {
     "name": "stdout",
     "output_type": "stream",
     "text": [
      "tracking_server_arn: arn:aws:sagemaker:us-east-1:165500596430:mlflow-tracking-server/mlflow-d-dpxoi9pfbmhz\n"
     ]
    }
   ],
   "source": [
    "import mlflow\n",
    "\n",
    "mlflow.set_tracking_uri(tracking_server_arn)\n",
    "print (f'tracking_server_arn: {tracking_server_arn}')"
   ]
  },
  {
   "cell_type": "code",
   "execution_count": 5,
   "id": "8c03e42e-debb-497d-9d4b-08ffe8267167",
   "metadata": {},
   "outputs": [
    {
     "data": {
      "text/plain": [
       "<Experiment: artifact_location='s3://sagemaker-studio-165500596430-fc675670/mlflow/d-dpxoi9pfbmhz/1', creation_time=1739877398084, experiment_id='1', last_update_time=1739877398084, lifecycle_stage='active', name='test', tags={}>"
      ]
     },
     "execution_count": 5,
     "metadata": {},
     "output_type": "execute_result"
    }
   ],
   "source": [
    "experiment_name = 'test'\n",
    "mlflow.set_experiment(experiment_name)"
   ]
  },
  {
   "cell_type": "markdown",
   "id": "c9197fca-6370-4f91-a52f-440ef5b22484",
   "metadata": {},
   "source": [
    "Log a metric"
   ]
  },
  {
   "cell_type": "code",
   "execution_count": 9,
   "id": "bab5d5df-c1a8-4a2b-89e1-52d36d630f3d",
   "metadata": {},
   "outputs": [],
   "source": [
    "with mlflow.start_run():\n",
    "    mlflow.log_metric(\"foo\", 1)\n",
    "    mlflow.log_metric(\"accuracy\", 98)"
   ]
  },
  {
   "cell_type": "markdown",
   "id": "d603ef2f-9c42-4ef2-896e-73ab1eaa6ace",
   "metadata": {},
   "source": [
    "See results in MLflow UI. You can either launch the MLflow UI from within SageMaker Studio, or generate a pre-signed URL like this:"
   ]
  },
  {
   "cell_type": "code",
   "execution_count": 10,
   "id": "0690708f-976c-472e-8e4d-281aa163e9aa",
   "metadata": {},
   "outputs": [
    {
     "data": {
      "text/plain": [
       "{'AuthorizedUrl': 'https://t-cqrzr6ru3noz.us-east-1.experiments.sagemaker.aws/auth?authToken=eyJhbGciOiJIUzI1NiJ9.eyJhdXRoVG9rZW5JZCI6ImJlZjljMGNhLWE4NmEtNDA3ZC1iYjg1LTRjNmNhNGE5NzgzMiIsImZhc0NyZWRlbnRpYWxzIjoiQWdWNGsrNkFUTGswL2FhckJlbEI0UGxFNlNUQjFqUE9Uc3RzQVZiMktGSUJGRHdBWHdBQkFCVmhkM010WTNKNWNIUnZMWEIxWW14cFl5MXJaWGtBUkVGc1ZXcGxiVXByVjJGWmFVRXdZMGg0SzIxT0t6YzFaV2sxUkRnM1lscFFWbVZHVm1KdVRVNUpaelkzWmpKTVQweDBaamhqZWxVemFrNU5ZVFoyV1ZWblp6MDlBQUVBQjJGM2N5MXJiWE1BUzJGeWJqcGhkM002YTIxek9uVnpMV1ZoYzNRdE1UbzROVEUzTWpVME56TTFNelU2YTJWNUwyRTVZMkZrWVRjNUxXTTVaRFl0TkRGbU5TMDRNakl5TFRsak1qYzNaVGMyWkdRMllRQzRBUUlCQUhnaVlibDFFZzUwbUordEE5TzVldXgramlSdENidVNrMXhNZWVnN3M0cnBTd0hla1dKWGNoQVdrVHMzTkRZTDY2TUNBQUFBZmpCOEJna3Foa2lHOXcwQkJ3YWdiekJ0QWdFQU1HZ0dDU3FHU0liM0RRRUhBVEFlQmdsZ2hrZ0JaUU1FQVM0d0VRUU1nNm0vTnVneDNiOXg5YjkvQWdFUWdEdXpsNW4rSXdEUWRURXRzdEUxZmV5VjNFbU45YlVKSHRiSis5N052RkRPZlJwdjE3OUVMNXZBU2JvOWk4WndkNGNmZ1N0M2d1Y2RkT1RuY0FJQUFCQUEyeGoxWEN2NVVEK3VsR3Y1WU5BczVPTlJqdHpHUUNld3N1ak4wNGV3eEFhNm9oUVhtSzVCQ1ZIWFZuSGpndFFTLy8vLy93QUFBQUVBQUFBQUFBQUFBQUFBQUFFQUFBTi9vUEJ5MkxSaUhINEdJbVhTVUpLYW9mbkdRZ1NHMDdneStPMncxUlpTYjdaeThYUVBybUl2TTBCQ1N0cjRTb2c2K1JsSnRnYUJpUUpKRU03WnFjNVc1OUMzNy95ZXQ0RGNvbnhHdytQNXZkS3ozN0dReVgrRW9KaUhDenBwTDd0MTVnMXJ1bjkwMnJvdFAxdWQ1WFVuYmg4SzMxNEU1dEJ6bUhIcWZrUlE0RVdVV2VoNGFOdVNUcm0rNTFEQzJpL2xjYmJDSEFMVGxvOEl3UW14eGZ6NGU3MWozUE4vb0lnNFpwenRuUDBUbW9HaE01eUNiaFU4N0taK0ZTb0hhNE15UWZ0MVVyaXVHNjViN0MvRXRtYjdOdzduanlEcTNTYVpmQzh5dVIvVVVNcjAzRlhrMmVrYU1pbzIyTkNHL1ZMNTVIb2piUFBkQ2VNbmhDWGlobzVmNmM0SHpzU05vR3ZhYU80WCtIZ3dncllrWDB1RDlKY2N1MzY1aFprWU1xdDBjM2xZL3B4SE9la3FkY244cStOTHNSbjB6TDdMVmhDQisyVkFxWFozdU1VRStvNkE2M1MxSzBjNGlpaUNKZjhGbFRJcTNSdjdaQzJFM3JPK0hvV3VUeFcwbG1rc3JNaXh0aVFDVUNZQ2xzZ243U2ZNd09CdWozTy85aWtXUVc3MnlRT0hBNUc0SkZ0K2Zja1k3a0doK1ZqMXRZNCtYYUlQN094aExiWnFLQ2krMm1RZU5nNHd3aU1sN0N6TXMwVGRETjlHOTNvMVBxMGFOV3YvTlRET3g4cnY3ajVZY2dOZE9GcFpQSjJwWVdFb3lVaWtMRFFzcWJyc0NEM1lRN1duM2VzZWdWQXV2WlYxRko0aHlST1owMld2akhHU0UzcHlLRWJiL0thaUVFSzc4MHRMNEh2ZlN5SFF0dlhYL0k5aDFXd0JhdlB1S0Y1SlJkb2paa25GTHNzajkyU202TklrZ1VaQzRBbHVhbDZQM0ZuYjBNODd1UG9BcVVlbWZGMnlDUmlYR0hsbEM5RnFOdk43MmZXOHdEcStWRXFHekovanhRRjVJTHVhaTcySVZpQWkzZS9jVXgvZXBqWWxjbGgrcHc3UnVRYjRncWZZZThkZGVJZ3ZORGR2SlBSWkp2NWc3SFIwYmsrQ3ZCVXFhR1ZEZEVXL0loL09zME1PMDM2MVNTRkprQWV5NlZYVnBsYmNuT2tJU1BuVDd6U0cwVi9TRmx1N0lDZHNBb3JsZUkwYnFZdmVMQ2RvcmJaYy9YMFJla2ZpcWRUa1ZvUEI5VEtuV2YvYnQza045NjFTcmlBMHFwRU9lMGNYOGlGc1p2amwwQXZ6YkxBbmErTGswSFp5Q0JCWll5Vk52aVlFbkdSSmdpZEU1aGY0L0JOUVZ6VzlOMlBBOEd4SmpMbkRNSUhQRk9SaGd5Z1JIRUhlRkN4KzlvVHJwYmtaVzJzNVU0YXQzMHNrRVkyTEQ1em5nTlZwTU5UQ2t5NmNWM21TSjM2UXdGa1RzelFjVGlBaHB5OUd2b3RnWEJubnRrL1Z0dlRUc1F4ZFU3L3pSTlR0V3RkNW1rTklhTnZiUVBkNVFMRzdrbmNOd0JUMVRhT2RlNEVBWnpCbEFqQXZsUUlmV2E0dlRmMEZPQnlQQkN1VzkyYUVNelFGMWNreVlzV0tFVUE2SGJYc0VtMllVbFM2c2hmR1B6WDFMMjBDTVFEY051WjlFa0orRUdacFQ5ekR3dnEzZWZNdjhJN1lTR0tkaWUxb3BTQndlM0xFK0VDK1JWSy9lQ2VqamtDZGYzTT0iLCJjaXBoZXJUZXh0IjoiQVFJQkFIZ2lZYmwxRWc1MG1KK3RBOU81ZXV4K2ppUnRDYnVTazF4TWVlZzdzNHJwU3dHVTA5aE5rTlNMUDUyOUp6cytGS2toQUFBQW9qQ0Jud1lKS29aSWh2Y05BUWNHb0lHUk1JR09BZ0VBTUlHSUJna3Foa2lHOXcwQkJ3RXdIZ1lKWUlaSUFXVURCQUV1TUJFRURFT3l0VHBOVEQ2US84blNsUUlCRUlCYkxjNnRDejZWRlFGY1BSTHNhL2VBWVFab3hYR3lacXk0ZENhM0JFVWtZeWJCUjBZOUNDS2M1WlB1SFdUVmxsUnFoK0tkazB6THR4cFZNcmZyL3VvMmNJaWlVRGFJemVnMWFzS1lIR0JOeitSaTNVU0V2WXIzS0I1MEhRPT0iLCJzdWIiOiJhcm46YXdzOnNhZ2VtYWtlcjp1cy1lYXN0LTE6MTY1NTAwNTk2NDMwOm1sZmxvdy10cmFja2luZy1zZXJ2ZXIvbWxmbG93LWQtZHB4b2k5cGZibWh6IiwiaWF0IjoxNzM5ODgwOTI1LCJleHAiOjE3Mzk4ODEyMjV9.BY5bmwf1k783D9aUoNzROFAqhY7y-4EwcwwxnkL31QM',\n",
       " 'ResponseMetadata': {'RequestId': 'a322450b-da0b-4bcb-b785-0039c2e1c1fc',\n",
       "  'HTTPStatusCode': 200,\n",
       "  'HTTPHeaders': {'x-amzn-requestid': 'a322450b-da0b-4bcb-b785-0039c2e1c1fc',\n",
       "   'content-type': 'application/x-amz-json-1.1',\n",
       "   'content-length': '3511',\n",
       "   'date': 'Tue, 18 Feb 2025 12:15:25 GMT'},\n",
       "  'RetryAttempts': 0}}"
      ]
     },
     "execution_count": 10,
     "metadata": {},
     "output_type": "execute_result"
    }
   ],
   "source": [
    "sm_client.create_presigned_mlflow_tracking_server_url(TrackingServerName=tracking_server_name)"
   ]
  },
  {
   "cell_type": "code",
   "execution_count": null,
   "id": "e619beb1-8f91-4d70-8dfa-156f08b2222f",
   "metadata": {},
   "outputs": [],
   "source": []
  }
 ],
 "metadata": {
  "kernelspec": {
   "display_name": "conda_python3",
   "language": "python",
   "name": "conda_python3"
  },
  "language_info": {
   "codemirror_mode": {
    "name": "ipython",
    "version": 3
   },
   "file_extension": ".py",
   "mimetype": "text/x-python",
   "name": "python",
   "nbconvert_exporter": "python",
   "pygments_lexer": "ipython3",
   "version": "3.10.16"
  }
 },
 "nbformat": 4,
 "nbformat_minor": 5
}
