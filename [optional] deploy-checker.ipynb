{
 "cells": [
  {
   "cell_type": "markdown",
   "id": "cd0ae6c5-f687-4e8d-b17d-26f293a1732f",
   "metadata": {},
   "source": [
    "# <B> Checker for deploy fucntions </B>\n",
    "* Container: codna_pytorch_p39"
   ]
  },
  {
   "cell_type": "markdown",
   "id": "614ab264-2441-4a3d-8fe2-a6e2c0ea32b7",
   "metadata": {},
   "source": [
    "### This is to check deploy functions in inference.py\n",
    "\n",
    "### Check functions in inference.py with local env.\n",
    "[중요] inference.py를 만들어 주어야 함\n",
    "* model_fn: 학습한 모델 로드\n",
    "* input_fn: endpoint invocation시 전달 되는 input 처리 하는 함수\n",
    "* predict_fn: forword propagation, input_fn의 이후 호출 \n",
    "* output_fn: 유저에게 결과 전달\n",
    "\n",
    "- 사용자 정의 inference 코드를 정의해서 사용하기 전에, 노트북에서 사전 테스트 및 디버깅을 하고 진행하면 빠르게 추론 개발을 할수 있습니다.\n",
    "- 디폴트 inference code (input_fn, model_fn, predict_fn, output_fn) 을 사용해도 되지만, 상황에 따라서는 사용자 정의가 필요할 수 있습니다. 디폴트 코드는 아래 링크를 참고 하세요.\n",
    "    - [Deploy PyTorch Models](https://sagemaker.readthedocs.io/en/stable/frameworks/pytorch/using_pytorch.html#deploy-pytorch-models)\n",
    "    - [디폴트 inference Code](https://github.com/aws/sagemaker-pytorch-inference-toolkit/blob/master/src/sagemaker_pytorch_serving_container/default_pytorch_inference_handler.py)\n",
    "    \n",
    " ### 로컬 모드 수행시, 새로운 로컬모드 수행을 위해서는 이전 사용했던 도커는 반드시 stop 해줘야 한다\n",
    "* docker ps -a 로 현재 수행중인 contatiner ID 확인 후\n",
    "* docker stop \"<<contatiner ID>>\"\n",
    "* docker container prune -f"
   ]
  },
  {
   "cell_type": "markdown",
   "id": "f21a6f3b-97cc-47e5-a2bd-052074016e14",
   "metadata": {},
   "source": [
    "## AutoReload"
   ]
  },
  {
   "cell_type": "code",
   "execution_count": 1,
   "id": "75be7e2c-c359-40a1-acfc-b473e9f1225f",
   "metadata": {
    "tags": []
   },
   "outputs": [],
   "source": [
    "%load_ext autoreload\n",
    "%autoreload 2"
   ]
  },
  {
   "cell_type": "markdown",
   "id": "b538a5e5-bc25-43a6-b8a6-1d4b32d9abb6",
   "metadata": {},
   "source": [
    "## function checker"
   ]
  },
  {
   "cell_type": "markdown",
   "id": "e09da983-64d0-4321-a6b8-efc0fed934f8",
   "metadata": {},
   "source": [
    "* 학습된 모델 경로 이동 (S3 -> Local)"
   ]
  },
  {
   "cell_type": "code",
   "execution_count": 2,
   "id": "1ba2c635-9bcd-4543-9bd1-3c45a5a418df",
   "metadata": {
    "tags": []
   },
   "outputs": [],
   "source": [
    "import os"
   ]
  },
  {
   "cell_type": "code",
   "execution_count": 3,
   "id": "25df3c06-f9a2-4043-b104-93083cb5170b",
   "metadata": {
    "tags": []
   },
   "outputs": [],
   "source": [
    "artifact_path = \"s3://sm-anomaly-detection/ad-ts/training/model-output/ad-ts-experiments-0428-02541682650451/model.tar.gz\"\n",
    "model_data_dir = \"./model/\"\n",
    "os.makedirs(model_data_dir, exist_ok=True)"
   ]
  },
  {
   "cell_type": "code",
   "execution_count": 4,
   "id": "421af588-c97e-413a-98c6-9e922e0423ab",
   "metadata": {
    "tags": []
   },
   "outputs": [
    {
     "name": "stdout",
     "output_type": "stream",
     "text": [
      "s3://sm-anomaly-detection/ad-ts/training/model-output/ad-ts-experiments-0428-02541682650451/model.tar.gz\n",
      "./model/\n",
      "download: s3://sm-anomaly-detection/ad-ts/training/model-output/ad-ts-experiments-0428-02541682650451/model.tar.gz to model/model.tar.gz\n",
      "best_model.pth\n"
     ]
    }
   ],
   "source": [
    "%%sh -s {artifact_path} {model_data_dir}\n",
    "\n",
    "artifact_path=$1\n",
    "model_data_dir=$2\n",
    "\n",
    "echo $artifact_path\n",
    "echo $model_data_dir\n",
    "\n",
    "# 기존 데이터 삭제\n",
    "rm -rf $model_data_dir/*\n",
    "\n",
    "# 모델을 S3에서 로컬로 다운로드\n",
    "aws s3 cp $artifact_path $model_data_dir\n",
    "\n",
    "# 모델 다운로드 폴더로 이동\n",
    "cd $model_data_dir\n",
    "\n",
    "# 압축 해제\n",
    "tar -xvf model.tar.gz "
   ]
  },
  {
   "cell_type": "markdown",
   "id": "95b688d7-7622-4c0b-9d02-ef1eacc29200",
   "metadata": {},
   "source": [
    "* check for \"model_fn\""
   ]
  },
  {
   "cell_type": "code",
   "execution_count": 5,
   "id": "0c2a4909-48ab-4f50-baf5-585bb43c0404",
   "metadata": {
    "tags": []
   },
   "outputs": [],
   "source": [
    "from src.deploy.inference import model_fn"
   ]
  },
  {
   "cell_type": "code",
   "execution_count": 6,
   "id": "17570056-5a2e-47be-ad37-d12b6a5f4128",
   "metadata": {
    "tags": []
   },
   "outputs": [
    {
     "name": "stdout",
     "output_type": "stream",
     "text": [
      "Input dim: 20, from num_features(4), shingle_size(4) and emb_size(4)\n"
     ]
    }
   ],
   "source": [
    "model = model_fn(model_data_dir)"
   ]
  },
  {
   "cell_type": "markdown",
   "id": "7b3dc4ef-c9b5-4192-9f79-27e1e5367e19",
   "metadata": {},
   "source": [
    "* check for \"input_fn\""
   ]
  },
  {
   "cell_type": "markdown",
   "id": "e36fbee6-7add-4e6e-bca2-2b46f079707d",
   "metadata": {},
   "source": [
    "    * download preprocessed data to local"
   ]
  },
  {
   "cell_type": "code",
   "execution_count": 7,
   "id": "aa14964b-7f2a-410d-b869-d91c65324df5",
   "metadata": {
    "tags": []
   },
   "outputs": [],
   "source": [
    "output_path = \"s3://sm-anomaly-detection/ad-ts/preprocessing/output/\"\n",
    "!aws s3 sync $output_path ./data/preprocessing --quiet"
   ]
  },
  {
   "cell_type": "code",
   "execution_count": 8,
   "id": "417a7cc9-6018-412e-8ed3-e69d1c8f9a9b",
   "metadata": {
    "tags": []
   },
   "outputs": [],
   "source": [
    "import json\n",
    "import pickle\n",
    "from src.deploy.inference import input_fn"
   ]
  },
  {
   "cell_type": "code",
   "execution_count": 9,
   "id": "7863e41b-d59b-4a73-b835-d8298cf17533",
   "metadata": {
    "tags": []
   },
   "outputs": [],
   "source": [
    "def from_pickle(obj_path):\n",
    "    with open(file=obj_path, mode=\"rb\") as f:\n",
    "        obj=pickle.load(f)\n",
    "    return obj"
   ]
  },
  {
   "cell_type": "code",
   "execution_count": 10,
   "id": "caa9b474-d0da-4431-a678-6d2faf99e161",
   "metadata": {
    "tags": []
   },
   "outputs": [],
   "source": [
    "data_path = \"./data/preprocessing/data_x_scaled_shingle.pkl\"\n",
    "data = from_pickle(data_path)\n",
    "data = data[0, :]\n",
    "dtype = data.dtype\n",
    "shape = data.shape"
   ]
  },
  {
   "cell_type": "code",
   "execution_count": 11,
   "id": "0149a0b4-2cac-4098-86b1-1239b177b7b3",
   "metadata": {
    "tags": []
   },
   "outputs": [
    {
     "name": "stdout",
     "output_type": "stream",
     "text": [
      "data: [ 0.         -1.2944116  -0.11915769 -1.2944116  -0.51090899 -0.88238043\n",
      " -0.97225508 -0.88238043 -0.70263113 -0.92357365 -1.00811606 -0.92357365\n",
      " -0.75448883 -0.47232556 -0.47232556 -0.47232556 -0.47232556]\n",
      "dtype: float64\n",
      "shape: (17,)\n"
     ]
    }
   ],
   "source": [
    "print (f'data: {data}')\n",
    "print (f'dtype: {dtype}')\n",
    "print (f'shape: {shape}')"
   ]
  },
  {
   "cell_type": "code",
   "execution_count": 12,
   "id": "871bc186-7f0d-4771-9379-8480f2643457",
   "metadata": {
    "tags": []
   },
   "outputs": [],
   "source": [
    "payload={\"INPUT\": data.tolist(), \"SHAPE\":shape, \"DTYPE\": str(dtype)}\n",
    "payload = json.dumps(payload)"
   ]
  },
  {
   "cell_type": "code",
   "execution_count": 13,
   "id": "553e85f9-d9a1-4ad8-a9e4-32592e9226cb",
   "metadata": {
    "tags": []
   },
   "outputs": [
    {
     "name": "stdout",
     "output_type": "stream",
     "text": [
      "request_body: string\n"
     ]
    },
    {
     "data": {
      "text/plain": [
       "tensor([[ 0.0000, -1.2944, -0.1192, -1.2944, -0.5109, -0.8824, -0.9723, -0.8824,\n",
       "         -0.7026, -0.9236, -1.0081, -0.9236, -0.7545, -0.4723, -0.4723, -0.4723,\n",
       "         -0.4723]], device='cuda:0')"
      ]
     },
     "execution_count": 13,
     "metadata": {},
     "output_type": "execute_result"
    }
   ],
   "source": [
    "input_data = input_fn(request_body=payload, request_content_type=\"application/json\")\n",
    "input_data"
   ]
  },
  {
   "cell_type": "markdown",
   "id": "5552888f-eb13-463d-a2c6-46ce6e17b7c1",
   "metadata": {},
   "source": [
    "* check for \"predict_fn\""
   ]
  },
  {
   "cell_type": "code",
   "execution_count": 28,
   "id": "df76e24a-feeb-401b-bdb9-127ff21494a7",
   "metadata": {
    "tags": []
   },
   "outputs": [],
   "source": [
    "from src.deploy.inference import predict_fn"
   ]
  },
  {
   "cell_type": "code",
   "execution_count": 29,
   "id": "7724990d-1b38-4283-a228-cbe9fa49b948",
   "metadata": {
    "tags": []
   },
   "outputs": [],
   "source": [
    "pred = predict_fn(input_data, model)"
   ]
  },
  {
   "cell_type": "code",
   "execution_count": 30,
   "id": "7d5b9bb2-e25c-4bbc-99a5-f9b3440c179d",
   "metadata": {
    "tags": []
   },
   "outputs": [
    {
     "data": {
      "text/plain": [
       "[{'ANOMALY_SCORE_SAP': 0.3146185,\n",
       "  'URLS_ATTRIBUTION_SCORE': 0.035414316,\n",
       "  'USERS_ATTRIBUTION_SCORE': 0.026715353,\n",
       "  'CLICKS_ATTRIBUTION_SCORE': 0.02899459,\n",
       "  'RESIDUALS_ATTRIBUTION_SCORE': 0.03928221,\n",
       "  'ANOMALY_SCORE': 0.1304064691066742}]"
      ]
     },
     "execution_count": 30,
     "metadata": {},
     "output_type": "execute_result"
    }
   ],
   "source": [
    "pred"
   ]
  },
  {
   "cell_type": "markdown",
   "id": "199418f9-eaae-4ebb-b542-e6946bf05d06",
   "metadata": {},
   "source": [
    "* check for \"output_fn\""
   ]
  },
  {
   "cell_type": "code",
   "execution_count": 31,
   "id": "a1657d29-cfba-4c04-9b88-cb9097c2f6a0",
   "metadata": {
    "tags": []
   },
   "outputs": [],
   "source": [
    "from src.deploy.inference import output_fn"
   ]
  },
  {
   "cell_type": "code",
   "execution_count": 32,
   "id": "97c81982-bb0e-4967-a9f7-0d13ddbc24be",
   "metadata": {
    "tags": []
   },
   "outputs": [
    {
     "data": {
      "text/plain": [
       "'{\"pred\": [{\"ANOMALY_SCORE_SAP\": 0.3146184980869293, \"URLS_ATTRIBUTION_SCORE\": 0.03541431576013565, \"USERS_ATTRIBUTION_SCORE\": 0.02671535313129425, \"CLICKS_ATTRIBUTION_SCORE\": 0.028994590044021606, \"RESIDUALS_ATTRIBUTION_SCORE\": 0.03928221017122269, \"ANOMALY_SCORE\": 0.1304064691066742}]}'"
      ]
     },
     "execution_count": 32,
     "metadata": {},
     "output_type": "execute_result"
    }
   ],
   "source": [
    "output_fn(pred)"
   ]
  },
  {
   "cell_type": "markdown",
   "id": "7cfd5f07-22c4-49db-ae32-8cb7ebe86264",
   "metadata": {
    "tags": []
   },
   "source": [
    "## Deploy"
   ]
  },
  {
   "cell_type": "markdown",
   "id": "b5d8648f-7188-45fd-85e5-714a5df7f7f0",
   "metadata": {},
   "source": [
    "* params for deployment"
   ]
  },
  {
   "cell_type": "code",
   "execution_count": 121,
   "id": "b101e338-aa4f-46be-977e-160a44afd9eb",
   "metadata": {
    "tags": []
   },
   "outputs": [],
   "source": [
    "import time\n",
    "import sagemaker"
   ]
  },
  {
   "cell_type": "code",
   "execution_count": 122,
   "id": "514de9f2-3438-4ef5-9edb-49df465a5f9c",
   "metadata": {
    "tags": []
   },
   "outputs": [
    {
     "name": "stdout",
     "output_type": "stream",
     "text": [
      "instance_type: local_gpu\n",
      "sagemaker_session: <sagemaker.local.local_session.LocalSession object at 0x7f0be9892730>\n",
      "Endpoint-name: endpoint-checker-1680163338\n"
     ]
    }
   ],
   "source": [
    "# Set to True to enable SageMaker to run locally\n",
    "local_mode = True\n",
    "\n",
    "if local_mode:\n",
    "    instance_type = \"local_gpu\"\n",
    "    \n",
    "    from sagemaker.local import LocalSession\n",
    "    import os\n",
    "    \n",
    "    sagemaker_session = LocalSession()\n",
    "    sagemaker_session.config = {'local': {'local_code': True}}\n",
    "    \n",
    "else:\n",
    "    instance_type = \"ml.p3.2xlarge\" #\"ml.p3.2xlarge\"#\"ml.g4dn.8xlarge\"#\"ml.p3.2xlarge\", 'ml.p3.16xlarge' , ml.g4dn.8xlarge\n",
    "    sagemaker_session = sagemaker.Session()\n",
    "    \n",
    "\n",
    "prefix = \"checker\"\n",
    "strEndpointName = f\"endpoint-{prefix}-{int(time.time())}\"\n",
    "    \n",
    "print (f'instance_type: {instance_type}')\n",
    "print (f'sagemaker_session: {sagemaker_session}')\n",
    "print (f\"Endpoint-name: {strEndpointName}\")"
   ]
  },
  {
   "cell_type": "markdown",
   "id": "ab6e156c-5100-42d2-8ca5-da9fa04c75f8",
   "metadata": {},
   "source": [
    "* deployment"
   ]
  },
  {
   "cell_type": "code",
   "execution_count": 123,
   "id": "865d3f69-6a77-46fa-8962-75a1b5af12d1",
   "metadata": {
    "tags": []
   },
   "outputs": [],
   "source": [
    "from sagemaker.pytorch.model import PyTorchModel\n",
    "from sagemaker.serializers import CSVSerializer, NumpySerializer, JSONSerializer\n",
    "from sagemaker.deserializers import JSONDeserializer, NumpyDeserializer"
   ]
  },
  {
   "cell_type": "code",
   "execution_count": null,
   "id": "fa0a61d6-5340-4b20-9f1b-0f99a5e77443",
   "metadata": {},
   "outputs": [],
   "source": [
    "local_esimator = PyTorchModel(\n",
    "    source_dir=\"./source/serve\",\n",
    "    entry_point=\"inference.py\",\n",
    "    model_data=pm.get_params(key=strPrefix + \"S3-MODEL-ARTIFACT\"),\n",
    "    role=pm.get_params(key=strPrefix + \"SAGEMAKER-ROLE-ARN\"),\n",
    "    framework_version='1.12.1',\n",
    "    py_version='py38',\n",
    "    model_server_workers=1,\n",
    ")"
   ]
  }
 ],
 "metadata": {
  "kernelspec": {
   "display_name": "conda_pytorch_p39",
   "language": "python",
   "name": "conda_pytorch_p39"
  },
  "language_info": {
   "codemirror_mode": {
    "name": "ipython",
    "version": 3
   },
   "file_extension": ".py",
   "mimetype": "text/x-python",
   "name": "python",
   "nbconvert_exporter": "python",
   "pygments_lexer": "ipython3",
   "version": "3.9.15"
  }
 },
 "nbformat": 4,
 "nbformat_minor": 5
}
