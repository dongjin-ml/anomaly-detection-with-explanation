{
 "cells": [
  {
   "cell_type": "markdown",
   "id": "8f3dd71b-f63a-4106-b323-67be004b482e",
   "metadata": {},
   "source": [
    "# <B> Setup for Anormaly Detection with SageMaker </B>\n",
    "* Container: codna_python3"
   ]
  },
  {
   "cell_type": "markdown",
   "id": "aaeaff49-a119-4a0c-b48a-f66ab721c458",
   "metadata": {},
   "source": [
    "## AutoReload"
   ]
  },
  {
   "cell_type": "code",
   "execution_count": 1,
   "id": "9f8f8f99-aaa0-42f9-8695-c8bd1884504c",
   "metadata": {
    "tags": []
   },
   "outputs": [],
   "source": [
    "%load_ext autoreload\n",
    "%autoreload 2"
   ]
  },
  {
   "cell_type": "markdown",
   "id": "78872034-4b66-45e4-983f-726a94459873",
   "metadata": {
    "tags": []
   },
   "source": [
    "## 0. Install packages"
   ]
  },
  {
   "cell_type": "code",
   "execution_count": 2,
   "id": "ee290bd6-1b9b-44d5-8746-14412ea3ca96",
   "metadata": {
    "tags": []
   },
   "outputs": [],
   "source": [
    "install_needed = True  # should only be True once\n",
    "# install_needed = False"
   ]
  },
  {
   "cell_type": "code",
   "execution_count": 3,
   "id": "6594574f-22e6-4237-a573-5598e0246727",
   "metadata": {
    "tags": []
   },
   "outputs": [
    {
     "name": "stdout",
     "output_type": "stream",
     "text": [
      "Already revised\n"
     ]
    }
   ],
   "source": [
    "%%bash\n",
    "#!/bin/bash\n",
    "\n",
    "DAEMON_PATH=\"/etc/docker\"\n",
    "MEMORY_SIZE=10G\n",
    "\n",
    "FLAG=$(cat $DAEMON_PATH/daemon.json | jq 'has(\"data-root\")')\n",
    "# echo $FLAG\n",
    "\n",
    "if [ \"$FLAG\" == true ]; then\n",
    "    echo \"Already revised\"\n",
    "else\n",
    "    echo \"Add data-root and default-shm-size=$MEMORY_SIZE\"\n",
    "    sudo cp $DAEMON_PATH/daemon.json $DAEMON_PATH/daemon.json.bak\n",
    "    sudo cat $DAEMON_PATH/daemon.json.bak | jq '. += {\"data-root\":\"/home/ec2-user/SageMaker/.container/docker\",\"default-shm-size\":\"'$MEMORY_SIZE'\"}' | sudo tee $DAEMON_PATH/daemon.json > /dev/null\n",
    "    sudo service docker restart\n",
    "    echo \"Docker Restart\"\n",
    "fi"
   ]
  },
  {
   "cell_type": "code",
   "execution_count": 4,
   "id": "f21840e5-9ecf-4e9c-9736-d2174cd413e2",
   "metadata": {
    "tags": []
   },
   "outputs": [
    {
     "name": "stdout",
     "output_type": "stream",
     "text": [
      "installing deps and restarting kernel\n",
      "Requirement already satisfied: pip in /home/ec2-user/anaconda3/envs/pytorch_p310/lib/python3.10/site-packages (24.1.2)\n",
      "Requirement already satisfied: smdebug in /home/ec2-user/anaconda3/envs/pytorch_p310/lib/python3.10/site-packages (1.0.34)\n",
      "Requirement already satisfied: awswrangler==2.20.1 in /home/ec2-user/anaconda3/envs/pytorch_p310/lib/python3.10/site-packages (2.20.1)\n",
      "Requirement already satisfied: backoff<3.0.0,>=1.11.1 in /home/ec2-user/anaconda3/envs/pytorch_p310/lib/python3.10/site-packages (from awswrangler==2.20.1) (2.2.1)\n",
      "Requirement already satisfied: boto3<2.0.0,>=1.24.11 in /home/ec2-user/anaconda3/envs/pytorch_p310/lib/python3.10/site-packages (from awswrangler==2.20.1) (1.34.142)\n",
      "Requirement already satisfied: botocore<2.0.0,>=1.27.11 in /home/ec2-user/anaconda3/envs/pytorch_p310/lib/python3.10/site-packages (from awswrangler==2.20.1) (1.34.131)\n",
      "Requirement already satisfied: gremlinpython<4.0.0,>=3.5.2 in /home/ec2-user/anaconda3/envs/pytorch_p310/lib/python3.10/site-packages (from awswrangler==2.20.1) (3.7.2)\n",
      "Requirement already satisfied: jsonpath-ng<2.0.0,>=1.5.3 in /home/ec2-user/anaconda3/envs/pytorch_p310/lib/python3.10/site-packages (from awswrangler==2.20.1) (1.6.1)\n",
      "Requirement already satisfied: numpy<=1.23.4,>=1.21.0 in /home/ec2-user/anaconda3/envs/pytorch_p310/lib/python3.10/site-packages (from awswrangler==2.20.1) (1.23.4)\n",
      "Requirement already satisfied: openpyxl<3.1.0,>=3.0.0 in /home/ec2-user/anaconda3/envs/pytorch_p310/lib/python3.10/site-packages (from awswrangler==2.20.1) (3.0.10)\n",
      "Requirement already satisfied: opensearch-py<3,>=1 in /home/ec2-user/anaconda3/envs/pytorch_p310/lib/python3.10/site-packages (from awswrangler==2.20.1) (2.6.0)\n",
      "Requirement already satisfied: pandas!=1.5.0,<2.0.0,<=1.5.1,>=1.2.0 in /home/ec2-user/anaconda3/envs/pytorch_p310/lib/python3.10/site-packages (from awswrangler==2.20.1) (1.5.1)\n",
      "Requirement already satisfied: pg8000<2.0.0,>=1.20.0 in /home/ec2-user/anaconda3/envs/pytorch_p310/lib/python3.10/site-packages (from awswrangler==2.20.1) (1.31.2)\n",
      "Requirement already satisfied: progressbar2<5.0.0,>=4.0.0 in /home/ec2-user/anaconda3/envs/pytorch_p310/lib/python3.10/site-packages (from awswrangler==2.20.1) (4.4.2)\n",
      "Collecting pyarrow<10.1.0,>=2.0.0 (from awswrangler==2.20.1)\n",
      "  Using cached pyarrow-10.0.1-cp310-cp310-manylinux_2_17_x86_64.manylinux2014_x86_64.whl.metadata (3.0 kB)\n",
      "Requirement already satisfied: pymysql<2.0.0,>=1.0.0 in /home/ec2-user/anaconda3/envs/pytorch_p310/lib/python3.10/site-packages (from awswrangler==2.20.1) (1.1.1)\n",
      "Requirement already satisfied: redshift-connector<2.1.0,>=2.0.889 in /home/ec2-user/anaconda3/envs/pytorch_p310/lib/python3.10/site-packages (from awswrangler==2.20.1) (2.0.918)\n",
      "Requirement already satisfied: requests-aws4auth<2.0.0,>=1.1.1 in /home/ec2-user/anaconda3/envs/pytorch_p310/lib/python3.10/site-packages (from awswrangler==2.20.1) (1.2.3)\n",
      "Requirement already satisfied: protobuf<=3.20.3,>=3.20.0 in /home/ec2-user/anaconda3/envs/pytorch_p310/lib/python3.10/site-packages (from smdebug) (3.20.3)\n",
      "Requirement already satisfied: packaging in /home/ec2-user/anaconda3/envs/pytorch_p310/lib/python3.10/site-packages (from smdebug) (21.3)\n",
      "Requirement already satisfied: pyinstrument==3.4.2 in /home/ec2-user/anaconda3/envs/pytorch_p310/lib/python3.10/site-packages (from smdebug) (3.4.2)\n",
      "Requirement already satisfied: pyinstrument-cext>=0.2.2 in /home/ec2-user/anaconda3/envs/pytorch_p310/lib/python3.10/site-packages (from pyinstrument==3.4.2->smdebug) (0.2.4)\n",
      "Collecting botocore<2.0.0,>=1.27.11 (from awswrangler==2.20.1)\n",
      "  Downloading botocore-1.34.144-py3-none-any.whl.metadata (5.7 kB)\n",
      "Requirement already satisfied: jmespath<2.0.0,>=0.7.1 in /home/ec2-user/anaconda3/envs/pytorch_p310/lib/python3.10/site-packages (from boto3<2.0.0,>=1.24.11->awswrangler==2.20.1) (1.0.1)\n",
      "Requirement already satisfied: s3transfer<0.11.0,>=0.10.0 in /home/ec2-user/anaconda3/envs/pytorch_p310/lib/python3.10/site-packages (from boto3<2.0.0,>=1.24.11->awswrangler==2.20.1) (0.10.1)\n",
      "Requirement already satisfied: python-dateutil<3.0.0,>=2.1 in /home/ec2-user/anaconda3/envs/pytorch_p310/lib/python3.10/site-packages (from botocore<2.0.0,>=1.27.11->awswrangler==2.20.1) (2.9.0)\n",
      "Requirement already satisfied: urllib3!=2.2.0,<3,>=1.25.4 in /home/ec2-user/anaconda3/envs/pytorch_p310/lib/python3.10/site-packages (from botocore<2.0.0,>=1.27.11->awswrangler==2.20.1) (2.2.1)\n",
      "Requirement already satisfied: nest-asyncio in /home/ec2-user/anaconda3/envs/pytorch_p310/lib/python3.10/site-packages (from gremlinpython<4.0.0,>=3.5.2->awswrangler==2.20.1) (1.6.0)\n",
      "Requirement already satisfied: aiohttp<4.0.0,>=3.8.0 in /home/ec2-user/anaconda3/envs/pytorch_p310/lib/python3.10/site-packages (from gremlinpython<4.0.0,>=3.5.2->awswrangler==2.20.1) (3.9.5)\n",
      "Requirement already satisfied: aenum<4.0.0,>=1.4.5 in /home/ec2-user/anaconda3/envs/pytorch_p310/lib/python3.10/site-packages (from gremlinpython<4.0.0,>=3.5.2->awswrangler==2.20.1) (3.1.15)\n",
      "Requirement already satisfied: six<2.0.0,>=1.10.0 in /home/ec2-user/anaconda3/envs/pytorch_p310/lib/python3.10/site-packages (from gremlinpython<4.0.0,>=3.5.2->awswrangler==2.20.1) (1.16.0)\n",
      "Requirement already satisfied: isodate<1.0.0,>=0.6.0 in /home/ec2-user/anaconda3/envs/pytorch_p310/lib/python3.10/site-packages (from gremlinpython<4.0.0,>=3.5.2->awswrangler==2.20.1) (0.6.1)\n",
      "Requirement already satisfied: ply in /home/ec2-user/anaconda3/envs/pytorch_p310/lib/python3.10/site-packages (from jsonpath-ng<2.0.0,>=1.5.3->awswrangler==2.20.1) (3.11)\n",
      "Requirement already satisfied: et-xmlfile in /home/ec2-user/anaconda3/envs/pytorch_p310/lib/python3.10/site-packages (from openpyxl<3.1.0,>=3.0.0->awswrangler==2.20.1) (1.1.0)\n",
      "Requirement already satisfied: requests<3.0.0,>=2.4.0 in /home/ec2-user/anaconda3/envs/pytorch_p310/lib/python3.10/site-packages (from opensearch-py<3,>=1->awswrangler==2.20.1) (2.32.3)\n",
      "Requirement already satisfied: certifi>=2022.12.07 in /home/ec2-user/anaconda3/envs/pytorch_p310/lib/python3.10/site-packages (from opensearch-py<3,>=1->awswrangler==2.20.1) (2024.2.2)\n",
      "Requirement already satisfied: Events in /home/ec2-user/anaconda3/envs/pytorch_p310/lib/python3.10/site-packages (from opensearch-py<3,>=1->awswrangler==2.20.1) (0.5)\n",
      "Requirement already satisfied: pytz>=2020.1 in /home/ec2-user/anaconda3/envs/pytorch_p310/lib/python3.10/site-packages (from pandas!=1.5.0,<2.0.0,<=1.5.1,>=1.2.0->awswrangler==2.20.1) (2024.1)\n",
      "Requirement already satisfied: scramp>=1.4.5 in /home/ec2-user/anaconda3/envs/pytorch_p310/lib/python3.10/site-packages (from pg8000<2.0.0,>=1.20.0->awswrangler==2.20.1) (1.4.5)\n",
      "Requirement already satisfied: python-utils>=3.8.1 in /home/ec2-user/anaconda3/envs/pytorch_p310/lib/python3.10/site-packages (from progressbar2<5.0.0,>=4.0.0->awswrangler==2.20.1) (3.8.2)\n",
      "Requirement already satisfied: beautifulsoup4<5.0.0,>=4.7.0 in /home/ec2-user/anaconda3/envs/pytorch_p310/lib/python3.10/site-packages (from redshift-connector<2.1.0,>=2.0.889->awswrangler==2.20.1) (4.12.3)\n",
      "Requirement already satisfied: lxml>=4.6.5 in /home/ec2-user/anaconda3/envs/pytorch_p310/lib/python3.10/site-packages (from redshift-connector<2.1.0,>=2.0.889->awswrangler==2.20.1) (5.2.2)\n",
      "Requirement already satisfied: setuptools in /home/ec2-user/anaconda3/envs/pytorch_p310/lib/python3.10/site-packages (from redshift-connector<2.1.0,>=2.0.889->awswrangler==2.20.1) (69.5.1)\n",
      "Requirement already satisfied: pyparsing!=3.0.5,>=2.0.2 in /home/ec2-user/anaconda3/envs/pytorch_p310/lib/python3.10/site-packages (from packaging->smdebug) (3.1.2)\n",
      "Requirement already satisfied: aiosignal>=1.1.2 in /home/ec2-user/anaconda3/envs/pytorch_p310/lib/python3.10/site-packages (from aiohttp<4.0.0,>=3.8.0->gremlinpython<4.0.0,>=3.5.2->awswrangler==2.20.1) (1.3.1)\n",
      "Requirement already satisfied: attrs>=17.3.0 in /home/ec2-user/anaconda3/envs/pytorch_p310/lib/python3.10/site-packages (from aiohttp<4.0.0,>=3.8.0->gremlinpython<4.0.0,>=3.5.2->awswrangler==2.20.1) (23.2.0)\n",
      "Requirement already satisfied: frozenlist>=1.1.1 in /home/ec2-user/anaconda3/envs/pytorch_p310/lib/python3.10/site-packages (from aiohttp<4.0.0,>=3.8.0->gremlinpython<4.0.0,>=3.5.2->awswrangler==2.20.1) (1.4.1)\n",
      "Requirement already satisfied: multidict<7.0,>=4.5 in /home/ec2-user/anaconda3/envs/pytorch_p310/lib/python3.10/site-packages (from aiohttp<4.0.0,>=3.8.0->gremlinpython<4.0.0,>=3.5.2->awswrangler==2.20.1) (6.0.5)\n",
      "Requirement already satisfied: yarl<2.0,>=1.0 in /home/ec2-user/anaconda3/envs/pytorch_p310/lib/python3.10/site-packages (from aiohttp<4.0.0,>=3.8.0->gremlinpython<4.0.0,>=3.5.2->awswrangler==2.20.1) (1.9.4)\n",
      "Requirement already satisfied: async-timeout<5.0,>=4.0 in /home/ec2-user/anaconda3/envs/pytorch_p310/lib/python3.10/site-packages (from aiohttp<4.0.0,>=3.8.0->gremlinpython<4.0.0,>=3.5.2->awswrangler==2.20.1) (4.0.3)\n",
      "Requirement already satisfied: soupsieve>1.2 in /home/ec2-user/anaconda3/envs/pytorch_p310/lib/python3.10/site-packages (from beautifulsoup4<5.0.0,>=4.7.0->redshift-connector<2.1.0,>=2.0.889->awswrangler==2.20.1) (2.5)\n",
      "Requirement already satisfied: typing-extensions>3.10.0.2 in /home/ec2-user/anaconda3/envs/pytorch_p310/lib/python3.10/site-packages (from python-utils>=3.8.1->progressbar2<5.0.0,>=4.0.0->awswrangler==2.20.1) (4.12.1)\n",
      "Requirement already satisfied: charset-normalizer<4,>=2 in /home/ec2-user/anaconda3/envs/pytorch_p310/lib/python3.10/site-packages (from requests<3.0.0,>=2.4.0->opensearch-py<3,>=1->awswrangler==2.20.1) (3.3.2)\n",
      "Requirement already satisfied: idna<4,>=2.5 in /home/ec2-user/anaconda3/envs/pytorch_p310/lib/python3.10/site-packages (from requests<3.0.0,>=2.4.0->opensearch-py<3,>=1->awswrangler==2.20.1) (3.7)\n",
      "Requirement already satisfied: asn1crypto>=1.5.1 in /home/ec2-user/anaconda3/envs/pytorch_p310/lib/python3.10/site-packages (from scramp>=1.4.5->pg8000<2.0.0,>=1.20.0->awswrangler==2.20.1) (1.5.1)\n",
      "Downloading botocore-1.34.144-py3-none-any.whl (12.4 MB)\n",
      "\u001b[2K   \u001b[90m━━━━━━━━━━━━━━━━━━━━━━━━━━━━━━━━━━━━━━━━\u001b[0m \u001b[32m12.4/12.4 MB\u001b[0m \u001b[31m106.3 MB/s\u001b[0m eta \u001b[36m0:00:00\u001b[0m00:01\u001b[0m0:01\u001b[0m\n",
      "\u001b[?25hUsing cached pyarrow-10.0.1-cp310-cp310-manylinux_2_17_x86_64.manylinux2014_x86_64.whl (35.9 MB)\n",
      "Installing collected packages: pyarrow, botocore\n",
      "  Attempting uninstall: pyarrow\n",
      "    Found existing installation: pyarrow 17.0.0\n",
      "    Uninstalling pyarrow-17.0.0:\n",
      "      Successfully uninstalled pyarrow-17.0.0\n",
      "  Attempting uninstall: botocore\n",
      "    Found existing installation: botocore 1.34.131\n",
      "    Uninstalling botocore-1.34.131:\n",
      "      Successfully uninstalled botocore-1.34.131\n",
      "\u001b[31mERROR: pip's dependency resolver does not currently take into account all the packages that are installed. This behaviour is the source of the following dependency conflicts.\n",
      "aiobotocore 2.13.1 requires botocore<1.34.132,>=1.34.70, but you have botocore 1.34.144 which is incompatible.\n",
      "awscli 1.33.24 requires botocore==1.34.142, but you have botocore 1.34.144 which is incompatible.\n",
      "datasets 2.20.0 requires pyarrow>=15.0.0, but you have pyarrow 10.0.1 which is incompatible.\u001b[0m\u001b[31m\n",
      "\u001b[0mSuccessfully installed botocore-1.34.144 pyarrow-10.0.1\n",
      "Requirement already satisfied: sagemaker in /home/ec2-user/anaconda3/envs/pytorch_p310/lib/python3.10/site-packages (2.226.0)\n",
      "Requirement already satisfied: attrs<24,>=23.1.0 in /home/ec2-user/anaconda3/envs/pytorch_p310/lib/python3.10/site-packages (from sagemaker) (23.2.0)\n",
      "Requirement already satisfied: boto3<2.0,>=1.34.142 in /home/ec2-user/anaconda3/envs/pytorch_p310/lib/python3.10/site-packages (from sagemaker) (1.34.142)\n",
      "Requirement already satisfied: cloudpickle==2.2.1 in /home/ec2-user/anaconda3/envs/pytorch_p310/lib/python3.10/site-packages (from sagemaker) (2.2.1)\n",
      "Requirement already satisfied: google-pasta in /home/ec2-user/anaconda3/envs/pytorch_p310/lib/python3.10/site-packages (from sagemaker) (0.2.0)\n",
      "Requirement already satisfied: numpy<2.0,>=1.9.0 in /home/ec2-user/anaconda3/envs/pytorch_p310/lib/python3.10/site-packages (from sagemaker) (1.23.4)\n",
      "Requirement already satisfied: protobuf<5.0,>=3.12 in /home/ec2-user/anaconda3/envs/pytorch_p310/lib/python3.10/site-packages (from sagemaker) (3.20.3)\n",
      "Requirement already satisfied: smdebug-rulesconfig==1.0.1 in /home/ec2-user/anaconda3/envs/pytorch_p310/lib/python3.10/site-packages (from sagemaker) (1.0.1)\n",
      "Requirement already satisfied: importlib-metadata<7.0,>=1.4.0 in /home/ec2-user/anaconda3/envs/pytorch_p310/lib/python3.10/site-packages (from sagemaker) (6.11.0)\n",
      "Requirement already satisfied: packaging>=20.0 in /home/ec2-user/anaconda3/envs/pytorch_p310/lib/python3.10/site-packages (from sagemaker) (21.3)\n",
      "Requirement already satisfied: pandas in /home/ec2-user/anaconda3/envs/pytorch_p310/lib/python3.10/site-packages (from sagemaker) (1.5.1)\n",
      "Requirement already satisfied: pathos in /home/ec2-user/anaconda3/envs/pytorch_p310/lib/python3.10/site-packages (from sagemaker) (0.3.2)\n",
      "Requirement already satisfied: schema in /home/ec2-user/anaconda3/envs/pytorch_p310/lib/python3.10/site-packages (from sagemaker) (0.7.7)\n",
      "Requirement already satisfied: PyYAML~=6.0 in /home/ec2-user/anaconda3/envs/pytorch_p310/lib/python3.10/site-packages (from sagemaker) (6.0.1)\n",
      "Requirement already satisfied: jsonschema in /home/ec2-user/anaconda3/envs/pytorch_p310/lib/python3.10/site-packages (from sagemaker) (4.22.0)\n",
      "Requirement already satisfied: platformdirs in /home/ec2-user/anaconda3/envs/pytorch_p310/lib/python3.10/site-packages (from sagemaker) (4.2.2)\n",
      "Requirement already satisfied: tblib<4,>=1.7.0 in /home/ec2-user/anaconda3/envs/pytorch_p310/lib/python3.10/site-packages (from sagemaker) (3.0.0)\n",
      "Requirement already satisfied: urllib3<3.0.0,>=1.26.8 in /home/ec2-user/anaconda3/envs/pytorch_p310/lib/python3.10/site-packages (from sagemaker) (2.2.1)\n",
      "Requirement already satisfied: requests in /home/ec2-user/anaconda3/envs/pytorch_p310/lib/python3.10/site-packages (from sagemaker) (2.32.3)\n",
      "Requirement already satisfied: docker in /home/ec2-user/anaconda3/envs/pytorch_p310/lib/python3.10/site-packages (from sagemaker) (7.1.0)\n",
      "Requirement already satisfied: tqdm in /home/ec2-user/anaconda3/envs/pytorch_p310/lib/python3.10/site-packages (from sagemaker) (4.66.4)\n",
      "Requirement already satisfied: psutil in /home/ec2-user/anaconda3/envs/pytorch_p310/lib/python3.10/site-packages (from sagemaker) (5.9.8)\n",
      "Requirement already satisfied: botocore<1.35.0,>=1.34.142 in /home/ec2-user/anaconda3/envs/pytorch_p310/lib/python3.10/site-packages (from boto3<2.0,>=1.34.142->sagemaker) (1.34.144)\n",
      "Requirement already satisfied: jmespath<2.0.0,>=0.7.1 in /home/ec2-user/anaconda3/envs/pytorch_p310/lib/python3.10/site-packages (from boto3<2.0,>=1.34.142->sagemaker) (1.0.1)\n",
      "Requirement already satisfied: s3transfer<0.11.0,>=0.10.0 in /home/ec2-user/anaconda3/envs/pytorch_p310/lib/python3.10/site-packages (from boto3<2.0,>=1.34.142->sagemaker) (0.10.1)\n",
      "Requirement already satisfied: zipp>=0.5 in /home/ec2-user/anaconda3/envs/pytorch_p310/lib/python3.10/site-packages (from importlib-metadata<7.0,>=1.4.0->sagemaker) (3.17.0)\n",
      "Requirement already satisfied: pyparsing!=3.0.5,>=2.0.2 in /home/ec2-user/anaconda3/envs/pytorch_p310/lib/python3.10/site-packages (from packaging>=20.0->sagemaker) (3.1.2)\n",
      "Requirement already satisfied: charset-normalizer<4,>=2 in /home/ec2-user/anaconda3/envs/pytorch_p310/lib/python3.10/site-packages (from requests->sagemaker) (3.3.2)\n",
      "Requirement already satisfied: idna<4,>=2.5 in /home/ec2-user/anaconda3/envs/pytorch_p310/lib/python3.10/site-packages (from requests->sagemaker) (3.7)\n",
      "Requirement already satisfied: certifi>=2017.4.17 in /home/ec2-user/anaconda3/envs/pytorch_p310/lib/python3.10/site-packages (from requests->sagemaker) (2024.2.2)\n",
      "Requirement already satisfied: six in /home/ec2-user/anaconda3/envs/pytorch_p310/lib/python3.10/site-packages (from google-pasta->sagemaker) (1.16.0)\n",
      "Requirement already satisfied: jsonschema-specifications>=2023.03.6 in /home/ec2-user/anaconda3/envs/pytorch_p310/lib/python3.10/site-packages (from jsonschema->sagemaker) (2023.12.1)\n",
      "Requirement already satisfied: referencing>=0.28.4 in /home/ec2-user/anaconda3/envs/pytorch_p310/lib/python3.10/site-packages (from jsonschema->sagemaker) (0.35.1)\n",
      "Requirement already satisfied: rpds-py>=0.7.1 in /home/ec2-user/anaconda3/envs/pytorch_p310/lib/python3.10/site-packages (from jsonschema->sagemaker) (0.18.1)\n",
      "Requirement already satisfied: python-dateutil>=2.8.1 in /home/ec2-user/anaconda3/envs/pytorch_p310/lib/python3.10/site-packages (from pandas->sagemaker) (2.9.0)\n",
      "Requirement already satisfied: pytz>=2020.1 in /home/ec2-user/anaconda3/envs/pytorch_p310/lib/python3.10/site-packages (from pandas->sagemaker) (2024.1)\n",
      "Requirement already satisfied: ppft>=1.7.6.8 in /home/ec2-user/anaconda3/envs/pytorch_p310/lib/python3.10/site-packages (from pathos->sagemaker) (1.7.6.8)\n",
      "Requirement already satisfied: dill>=0.3.8 in /home/ec2-user/anaconda3/envs/pytorch_p310/lib/python3.10/site-packages (from pathos->sagemaker) (0.3.8)\n",
      "Requirement already satisfied: pox>=0.3.4 in /home/ec2-user/anaconda3/envs/pytorch_p310/lib/python3.10/site-packages (from pathos->sagemaker) (0.3.4)\n",
      "Requirement already satisfied: multiprocess>=0.70.16 in /home/ec2-user/anaconda3/envs/pytorch_p310/lib/python3.10/site-packages (from pathos->sagemaker) (0.70.16)\n",
      "Requirement already satisfied: datasets in /home/ec2-user/anaconda3/envs/pytorch_p310/lib/python3.10/site-packages (2.20.0)\n",
      "Requirement already satisfied: transformers in /home/ec2-user/anaconda3/envs/pytorch_p310/lib/python3.10/site-packages (4.42.4)\n",
      "Requirement already satisfied: s3fs in /home/ec2-user/anaconda3/envs/pytorch_p310/lib/python3.10/site-packages (2024.5.0)\n",
      "Collecting s3fs\n",
      "  Using cached s3fs-2024.6.1-py3-none-any.whl.metadata (1.6 kB)\n",
      "Requirement already satisfied: filelock in /home/ec2-user/anaconda3/envs/pytorch_p310/lib/python3.10/site-packages (from datasets) (3.14.0)\n",
      "Requirement already satisfied: numpy>=1.17 in /home/ec2-user/anaconda3/envs/pytorch_p310/lib/python3.10/site-packages (from datasets) (1.23.4)\n",
      "Collecting pyarrow>=15.0.0 (from datasets)\n",
      "  Using cached pyarrow-17.0.0-cp310-cp310-manylinux_2_17_x86_64.manylinux2014_x86_64.whl.metadata (3.3 kB)\n",
      "Requirement already satisfied: pyarrow-hotfix in /home/ec2-user/anaconda3/envs/pytorch_p310/lib/python3.10/site-packages (from datasets) (0.6)\n",
      "Requirement already satisfied: dill<0.3.9,>=0.3.0 in /home/ec2-user/anaconda3/envs/pytorch_p310/lib/python3.10/site-packages (from datasets) (0.3.8)\n",
      "Requirement already satisfied: pandas in /home/ec2-user/anaconda3/envs/pytorch_p310/lib/python3.10/site-packages (from datasets) (1.5.1)\n",
      "Requirement already satisfied: requests>=2.32.2 in /home/ec2-user/anaconda3/envs/pytorch_p310/lib/python3.10/site-packages (from datasets) (2.32.3)\n",
      "Requirement already satisfied: tqdm>=4.66.3 in /home/ec2-user/anaconda3/envs/pytorch_p310/lib/python3.10/site-packages (from datasets) (4.66.4)\n",
      "Requirement already satisfied: xxhash in /home/ec2-user/anaconda3/envs/pytorch_p310/lib/python3.10/site-packages (from datasets) (3.4.1)\n",
      "Requirement already satisfied: multiprocess in /home/ec2-user/anaconda3/envs/pytorch_p310/lib/python3.10/site-packages (from datasets) (0.70.16)\n",
      "Requirement already satisfied: fsspec<=2024.5.0,>=2023.1.0 in /home/ec2-user/anaconda3/envs/pytorch_p310/lib/python3.10/site-packages (from fsspec[http]<=2024.5.0,>=2023.1.0->datasets) (2024.5.0)\n",
      "Requirement already satisfied: aiohttp in /home/ec2-user/anaconda3/envs/pytorch_p310/lib/python3.10/site-packages (from datasets) (3.9.5)\n",
      "Requirement already satisfied: huggingface-hub>=0.21.2 in /home/ec2-user/anaconda3/envs/pytorch_p310/lib/python3.10/site-packages (from datasets) (0.23.5)\n",
      "Requirement already satisfied: packaging in /home/ec2-user/anaconda3/envs/pytorch_p310/lib/python3.10/site-packages (from datasets) (21.3)\n",
      "Requirement already satisfied: pyyaml>=5.1 in /home/ec2-user/anaconda3/envs/pytorch_p310/lib/python3.10/site-packages (from datasets) (6.0.1)\n",
      "Requirement already satisfied: regex!=2019.12.17 in /home/ec2-user/anaconda3/envs/pytorch_p310/lib/python3.10/site-packages (from transformers) (2024.5.15)\n",
      "Requirement already satisfied: safetensors>=0.4.1 in /home/ec2-user/anaconda3/envs/pytorch_p310/lib/python3.10/site-packages (from transformers) (0.4.3)\n",
      "Requirement already satisfied: tokenizers<0.20,>=0.19 in /home/ec2-user/anaconda3/envs/pytorch_p310/lib/python3.10/site-packages (from transformers) (0.19.1)\n",
      "Requirement already satisfied: aiobotocore<3.0.0,>=2.5.4 in /home/ec2-user/anaconda3/envs/pytorch_p310/lib/python3.10/site-packages (from s3fs) (2.13.1)\n",
      "INFO: pip is looking at multiple versions of s3fs to determine which version is compatible with other requirements. This could take a while.\n",
      "Collecting s3fs\n",
      "  Using cached s3fs-2024.6.0-py3-none-any.whl.metadata (1.6 kB)\n",
      "Collecting botocore<1.34.132,>=1.34.70 (from aiobotocore<3.0.0,>=2.5.4->s3fs)\n",
      "  Using cached botocore-1.34.131-py3-none-any.whl.metadata (5.7 kB)\n",
      "Requirement already satisfied: wrapt<2.0.0,>=1.10.10 in /home/ec2-user/anaconda3/envs/pytorch_p310/lib/python3.10/site-packages (from aiobotocore<3.0.0,>=2.5.4->s3fs) (1.16.0)\n",
      "Requirement already satisfied: aioitertools<1.0.0,>=0.5.1 in /home/ec2-user/anaconda3/envs/pytorch_p310/lib/python3.10/site-packages (from aiobotocore<3.0.0,>=2.5.4->s3fs) (0.11.0)\n",
      "Requirement already satisfied: aiosignal>=1.1.2 in /home/ec2-user/anaconda3/envs/pytorch_p310/lib/python3.10/site-packages (from aiohttp->datasets) (1.3.1)\n",
      "Requirement already satisfied: attrs>=17.3.0 in /home/ec2-user/anaconda3/envs/pytorch_p310/lib/python3.10/site-packages (from aiohttp->datasets) (23.2.0)\n",
      "Requirement already satisfied: frozenlist>=1.1.1 in /home/ec2-user/anaconda3/envs/pytorch_p310/lib/python3.10/site-packages (from aiohttp->datasets) (1.4.1)\n",
      "Requirement already satisfied: multidict<7.0,>=4.5 in /home/ec2-user/anaconda3/envs/pytorch_p310/lib/python3.10/site-packages (from aiohttp->datasets) (6.0.5)\n",
      "Requirement already satisfied: yarl<2.0,>=1.0 in /home/ec2-user/anaconda3/envs/pytorch_p310/lib/python3.10/site-packages (from aiohttp->datasets) (1.9.4)\n",
      "Requirement already satisfied: async-timeout<5.0,>=4.0 in /home/ec2-user/anaconda3/envs/pytorch_p310/lib/python3.10/site-packages (from aiohttp->datasets) (4.0.3)\n",
      "Requirement already satisfied: typing-extensions>=3.7.4.3 in /home/ec2-user/anaconda3/envs/pytorch_p310/lib/python3.10/site-packages (from huggingface-hub>=0.21.2->datasets) (4.12.1)\n",
      "Requirement already satisfied: pyparsing!=3.0.5,>=2.0.2 in /home/ec2-user/anaconda3/envs/pytorch_p310/lib/python3.10/site-packages (from packaging->datasets) (3.1.2)\n",
      "Requirement already satisfied: charset-normalizer<4,>=2 in /home/ec2-user/anaconda3/envs/pytorch_p310/lib/python3.10/site-packages (from requests>=2.32.2->datasets) (3.3.2)\n",
      "Requirement already satisfied: idna<4,>=2.5 in /home/ec2-user/anaconda3/envs/pytorch_p310/lib/python3.10/site-packages (from requests>=2.32.2->datasets) (3.7)\n",
      "Requirement already satisfied: urllib3<3,>=1.21.1 in /home/ec2-user/anaconda3/envs/pytorch_p310/lib/python3.10/site-packages (from requests>=2.32.2->datasets) (2.2.1)\n",
      "Requirement already satisfied: certifi>=2017.4.17 in /home/ec2-user/anaconda3/envs/pytorch_p310/lib/python3.10/site-packages (from requests>=2.32.2->datasets) (2024.2.2)\n",
      "Requirement already satisfied: python-dateutil>=2.8.1 in /home/ec2-user/anaconda3/envs/pytorch_p310/lib/python3.10/site-packages (from pandas->datasets) (2.9.0)\n",
      "Requirement already satisfied: pytz>=2020.1 in /home/ec2-user/anaconda3/envs/pytorch_p310/lib/python3.10/site-packages (from pandas->datasets) (2024.1)\n",
      "Requirement already satisfied: jmespath<2.0.0,>=0.7.1 in /home/ec2-user/anaconda3/envs/pytorch_p310/lib/python3.10/site-packages (from botocore<1.34.132,>=1.34.70->aiobotocore<3.0.0,>=2.5.4->s3fs) (1.0.1)\n",
      "Requirement already satisfied: six>=1.5 in /home/ec2-user/anaconda3/envs/pytorch_p310/lib/python3.10/site-packages (from python-dateutil>=2.8.1->pandas->datasets) (1.16.0)\n",
      "Using cached pyarrow-17.0.0-cp310-cp310-manylinux_2_17_x86_64.manylinux2014_x86_64.whl (39.9 MB)\n",
      "Using cached botocore-1.34.131-py3-none-any.whl (12.3 MB)\n",
      "Installing collected packages: pyarrow, botocore\n",
      "  Attempting uninstall: pyarrow\n",
      "    Found existing installation: pyarrow 10.0.1\n",
      "    Uninstalling pyarrow-10.0.1:\n",
      "      Successfully uninstalled pyarrow-10.0.1\n",
      "  Attempting uninstall: botocore\n",
      "    Found existing installation: botocore 1.34.144\n",
      "    Uninstalling botocore-1.34.144:\n",
      "      Successfully uninstalled botocore-1.34.144\n",
      "\u001b[31mERROR: pip's dependency resolver does not currently take into account all the packages that are installed. This behaviour is the source of the following dependency conflicts.\n",
      "awscli 1.33.24 requires botocore==1.34.142, but you have botocore 1.34.131 which is incompatible.\n",
      "awswrangler 2.20.1 requires pyarrow<10.1.0,>=2.0.0, but you have pyarrow 17.0.0 which is incompatible.\n",
      "boto3 1.34.142 requires botocore<1.35.0,>=1.34.142, but you have botocore 1.34.131 which is incompatible.\u001b[0m\u001b[31m\n",
      "\u001b[0mSuccessfully installed botocore-1.34.131 pyarrow-17.0.0\n",
      "  % Total    % Received % Xferd  Average Speed   Time    Time     Time  Current\n",
      "                                 Dload  Upload   Total   Spent    Left  Speed\n",
      "  0     0    0     0    0     0      0      0 --:--:-- --:--:-- --:--:--     0\n",
      "100 59.8M  100 59.8M    0     0   247M      0 --:--:-- --:--:-- --:--:--  247M\n"
     ]
    }
   ],
   "source": [
    "import sys\n",
    "import IPython\n",
    "\n",
    "if install_needed:\n",
    "    print(\"installing deps and restarting kernel\")\n",
    "    !{sys.executable} -m pip install -U pip\n",
    "    !{sys.executable} -m pip install -U smdebug awswrangler==2.20.1\n",
    "    !{sys.executable} -m pip install -U sagemaker\n",
    "    !{sys.executable} -m pip install -U datasets transformers s3fs\n",
    "    !sudo curl -L \"https://github.com/docker/compose/releases/download/v2.26.1/docker-compose-$(uname -s)-$(uname -m)\" -o /usr/local/bin/docker-compose\n",
    "    !sudo chmod +x /usr/local/bin/docker-compose\n",
    "        \n",
    "    IPython.Application.instance().kernel.do_shutdown(True)"
   ]
  },
  {
   "cell_type": "markdown",
   "id": "9d235cc4-356c-43e0-99ca-fea913797c99",
   "metadata": {
    "tags": []
   },
   "source": [
    "## 1. Set roles"
   ]
  },
  {
   "cell_type": "code",
   "execution_count": 5,
   "id": "1f3a2019-2337-4b48-9bd8-f577ac13daed",
   "metadata": {
    "tags": []
   },
   "outputs": [
    {
     "name": "stdout",
     "output_type": "stream",
     "text": [
      "sagemaker.config INFO - Not applying SDK defaults from location: /etc/xdg/sagemaker/config.yaml\n",
      "sagemaker.config INFO - Not applying SDK defaults from location: /home/ec2-user/.config/sagemaker/config.yaml\n"
     ]
    }
   ],
   "source": [
    "from sagemaker import get_execution_role"
   ]
  },
  {
   "cell_type": "code",
   "execution_count": 6,
   "id": "3be71d18-b4b7-4196-abf1-1922f3013c4e",
   "metadata": {
    "tags": []
   },
   "outputs": [
    {
     "name": "stdout",
     "output_type": "stream",
     "text": [
      "SageMaker Execution Role Name: AmazonSageMaker-ExecutionRole-20221206T163436\n"
     ]
    }
   ],
   "source": [
    "strSageMakerRoleName = get_execution_role().rsplit('/', 1)[-1]\n",
    "print (f\"SageMaker Execution Role Name: {strSageMakerRoleName}\")"
   ]
  },
  {
   "cell_type": "markdown",
   "id": "8acda191-5a24-4904-b637-92e9bfd580e2",
   "metadata": {
    "tags": []
   },
   "source": [
    "## 1.1 Attach IAM polich to sagemaker execution role (<b>with console</b>)\n",
    "> **S3**: \"arn:aws:iam::aws:policy/AmazonS3FullAccess\""
   ]
  },
  {
   "cell_type": "markdown",
   "id": "30b62cad-5190-4558-a33f-874e5360cfe9",
   "metadata": {
    "tags": []
   },
   "source": [
    "### 1.1 Attach IAM polich to sagemaker execution role (<b>with console</b>)\n",
    "> step 1. IAM console 로 이동    \n",
    ">\n",
    "> step 2. 왼쪽 네비게이터에서  \"Role\" 선택  \n",
    "> ![nn](imgs/Role.png)  \n",
    ">\n",
    "> step 3. SageMaker Execution Role 검색 후 role 선택 (상위 cell output 참조)  \n",
    "> ![nn](imgs/search-by-rolename.png)  \n",
    ">\n",
    "> step 4. \"attach policies\" 메뉴 선택 \n",
    "> ![nn](imgs/attach-policy-menu.png)  \n",
    ">\n",
    "> step 5. \"IAMFullAccess\" policy 검색 후 attach \n",
    "> ![nn](imgs/attach-policy.png) "
   ]
  },
  {
   "cell_type": "code",
   "execution_count": null,
   "id": "10d28d27-efb0-4511-b33e-e60e89446645",
   "metadata": {
    "tags": []
   },
   "outputs": [],
   "source": [
    "from utils.iam import iam_handler"
   ]
  },
  {
   "cell_type": "code",
   "execution_count": null,
   "id": "5c3e171a-8175-4602-a0c6-bd5fe415ba8e",
   "metadata": {
    "tags": []
   },
   "outputs": [],
   "source": [
    "iam = iam_handler()"
   ]
  },
  {
   "cell_type": "markdown",
   "id": "6f19e4dc-fcb2-4521-b86d-41991d63a491",
   "metadata": {},
   "source": [
    "### 1.2 Attach policy - sagemaker execution role\n",
    "> SSM  \n",
    "> S3 <BR>\n",
    "> Kinesis <BR>\n",
    "> KinesisAnalytics <BR>"
   ]
  },
  {
   "cell_type": "code",
   "execution_count": null,
   "id": "63366dd9-d505-44ff-823e-172059c724f3",
   "metadata": {
    "tags": []
   },
   "outputs": [],
   "source": [
    "listPolicyArn=[\n",
    "    \"arn:aws:iam::aws:policy/AmazonSSMFullAccess\",\n",
    "    \"arn:aws:iam::aws:policy/AmazonS3FullAccess\",\n",
    "    \"arn:aws:iam::aws:policy/AmazonKinesisFullAccess\",\n",
    "    \"arn:aws:iam::aws:policy/AmazonKinesisAnalyticsFullAccess\",\n",
    "]\n",
    "for strPolicyArn in listPolicyArn: iam.attach_policy(strSageMakerRoleName, strPolicyArn)"
   ]
  },
  {
   "cell_type": "markdown",
   "id": "87fe7a4b-03e1-4422-8bd5-62d30e0a419f",
   "metadata": {},
   "source": [
    "## 2. Set default parameters"
   ]
  },
  {
   "cell_type": "code",
   "execution_count": null,
   "id": "e5e8ad58-6a1e-41b4-88e5-aec263ef935e",
   "metadata": {
    "tags": []
   },
   "outputs": [],
   "source": [
    "import boto3\n",
    "import sagemaker"
   ]
  },
  {
   "cell_type": "markdown",
   "id": "92d651c6-93ad-463b-905a-d9978bd748a7",
   "metadata": {},
   "source": [
    "### Bucket / Prefix 설정"
   ]
  },
  {
   "cell_type": "code",
   "execution_count": null,
   "id": "659a6734-542a-4f79-b4bb-726408709308",
   "metadata": {
    "tags": []
   },
   "outputs": [],
   "source": [
    "strRegionName = boto3.Session().region_name\n",
    "strAccountId = boto3.client(\"sts\").get_caller_identity().get(\"Account\")\n",
    "strBucketName = 'sm-anomaly-detection-dongjin' # <-- 사용할 bucket 명을 추가해 주세요. ex) sagemaker-us-east-1-123456789123, sm-nemo-bucket\n",
    "strPrefix = 'ad-ts' ## <-- 작업할 prefix 명을 추가해 주세요. ex) nemo-test, nemo-asr"
   ]
  },
  {
   "cell_type": "markdown",
   "id": "66618f51-efdf-4336-8712-acf2201f5aab",
   "metadata": {},
   "source": [
    "## 3. Extract & Upload dataset"
   ]
  },
  {
   "cell_type": "code",
   "execution_count": null,
   "id": "693ac722-d6d3-4ae0-8787-27dd7a3a11cc",
   "metadata": {
    "tags": []
   },
   "outputs": [],
   "source": [
    "import os\n",
    "from utils.s3 import s3_handler"
   ]
  },
  {
   "cell_type": "code",
   "execution_count": null,
   "id": "6ff6a2f4-f76d-4dff-9e15-009650716c79",
   "metadata": {
    "tags": []
   },
   "outputs": [],
   "source": [
    "strLocalDataPath = \"./data\"\n",
    "!tar -zxvf $strLocalDataPath/data.tar.gz --directory=data"
   ]
  },
  {
   "cell_type": "markdown",
   "id": "02437135-a31a-4e69-9dda-25c0a0d54af2",
   "metadata": {},
   "source": [
    "* create bucket"
   ]
  },
  {
   "cell_type": "code",
   "execution_count": 11,
   "id": "a1737b20-1b67-4083-8c9a-4b602d5edd77",
   "metadata": {
    "tags": []
   },
   "outputs": [
    {
     "name": "stdout",
     "output_type": "stream",
     "text": [
      "This is a S3 handler with [None] region.\n"
     ]
    }
   ],
   "source": [
    "s3 = s3_handler()"
   ]
  },
  {
   "cell_type": "code",
   "execution_count": 12,
   "id": "1705cdc0-9540-4f8c-89a9-7d11174f1334",
   "metadata": {
    "tags": []
   },
   "outputs": [
    {
     "name": "stdout",
     "output_type": "stream",
     "text": [
      "CREATE:[sm-anomaly-detection-dongjin] Bucket was created successfully\n"
     ]
    },
    {
     "data": {
      "text/plain": [
       "True"
      ]
     },
     "execution_count": 12,
     "metadata": {},
     "output_type": "execute_result"
    }
   ],
   "source": [
    "s3.create_bucket(strBucketName)"
   ]
  },
  {
   "cell_type": "markdown",
   "id": "3ac1ad94-a3d0-49a2-b16a-35887875ed54",
   "metadata": {},
   "source": [
    "* updoad data to s3"
   ]
  },
  {
   "cell_type": "code",
   "execution_count": 13,
   "id": "95e9f4ec-f3ad-4a63-aa4a-425615aea2c8",
   "metadata": {
    "tags": []
   },
   "outputs": [
    {
     "name": "stdout",
     "output_type": "stream",
     "text": [
      "Upload:[./data] was uploaded to [s3://sm-anomaly-detection-dongjin/data]successfully\n"
     ]
    }
   ],
   "source": [
    "source_dir, target_bucket, target_dir = strLocalDataPath, strBucketName, \"data\"\n",
    "s3.upload_dir(source_dir, target_bucket, target_dir)"
   ]
  },
  {
   "cell_type": "markdown",
   "id": "79d1cc04-a7d2-47a2-bdeb-0357a67aa775",
   "metadata": {},
   "source": [
    "## 4. [Optional] AWS Systems Manager Parameter Store 를 이용한 파라미터 저장/활용\n",
    "- [AWS Systems Manager Parameter Store](https://docs.aws.amazon.com/systems-manager/latest/userguide/systems-manager-parameter-store.html)\n",
    "- Attach IAM polich to sagemaker execution role (<b>with console</b>)\n",
    "> **SSM**: \"arn:aws:iam::aws:policy/AmazonSSMFullAccess\"<BR>"
   ]
  },
  {
   "cell_type": "code",
   "execution_count": 17,
   "id": "ef82d683-4008-4337-b756-fed86c4d6fc4",
   "metadata": {
    "tags": []
   },
   "outputs": [],
   "source": [
    "from utils.ssm import parameter_store"
   ]
  },
  {
   "cell_type": "code",
   "execution_count": 18,
   "id": "8cbafaa9-11bb-4207-ac4d-912e02f64709",
   "metadata": {
    "tags": []
   },
   "outputs": [],
   "source": [
    "pm = parameter_store(strRegionName)"
   ]
  },
  {
   "cell_type": "code",
   "execution_count": 19,
   "id": "0d074104-5c46-489b-982a-4e3801697757",
   "metadata": {
    "tags": []
   },
   "outputs": [
    {
     "data": {
      "text/plain": [
       "'Store suceess'"
      ]
     },
     "execution_count": 19,
     "metadata": {},
     "output_type": "execute_result"
    }
   ],
   "source": [
    "pm.put_params(key=\"PREFIX\", value=strPrefix, overwrite=True)\n",
    "pm.put_params(key=\"-\".join([strPrefix, \"REGION\"]), value=strRegionName, overwrite=True)\n",
    "pm.put_params(key=\"-\".join([strPrefix, \"BUCKET\"]), value=strBucketName, overwrite=True)\n",
    "pm.put_params(key=\"-\".join([strPrefix, \"SAGEMAKER-ROLE-ARN\"]), value=get_execution_role(), overwrite=True)\n",
    "pm.put_params(key=\"-\".join([strPrefix, \"ACCOUNT-ID\"]), value=strAccountId, overwrite=True)\n",
    "pm.put_params(key=\"-\".join([strPrefix, \"S3-DATA-PATH\"]), value=f\"s3://{strBucketName}/data\", overwrite=True)"
   ]
  },
  {
   "cell_type": "code",
   "execution_count": 20,
   "id": "7b3f10d7-7a58-4249-a160-076e4bb19bdc",
   "metadata": {
    "tags": []
   },
   "outputs": [
    {
     "name": "stdout",
     "output_type": "stream",
     "text": [
      "PREFIX: ad-ts\n",
      "REGION: us-east-1\n",
      "BUCKET: sm-anomaly-detection-dongjin\n",
      "SAGEMAKER-ROLE-ARN: arn:aws:iam::419974056037:role/service-role/AmazonSageMaker-ExecutionRole-20221206T163436\n",
      "ACCOUNT-ID: 419974056037\n",
      "S3-DATA-PATH: s3://sm-anomaly-detection-dongjin/data\n"
     ]
    }
   ],
   "source": [
    "print (f'PREFIX: {pm.get_params(key=\"PREFIX\")}')\n",
    "print (f'REGION: {pm.get_params(key=\"-\".join([strPrefix, \"REGION\"]))}')\n",
    "print (f'BUCKET: {pm.get_params(key=\"-\".join([strPrefix, \"BUCKET\"]))}')\n",
    "print (f'SAGEMAKER-ROLE-ARN: {pm.get_params(key=\"-\".join([strPrefix, \"SAGEMAKER-ROLE-ARN\"]))}')\n",
    "print (f'ACCOUNT-ID: {pm.get_params(key=\"-\".join([strPrefix, \"ACCOUNT-ID\"]))}')\n",
    "print (f'S3-DATA-PATH: {pm.get_params(key=\"-\".join([strPrefix, \"S3-DATA-PATH\"]))}')"
   ]
  },
  {
   "cell_type": "code",
   "execution_count": null,
   "id": "4f1e5d99-421d-4dbd-a1d9-ef92948d7e76",
   "metadata": {},
   "outputs": [],
   "source": []
  }
 ],
 "metadata": {
  "instance_type": "ml.t3.medium",
  "kernelspec": {
   "display_name": "conda_pytorch_p310",
   "language": "python",
   "name": "conda_pytorch_p310"
  },
  "language_info": {
   "codemirror_mode": {
    "name": "ipython",
    "version": 3
   },
   "file_extension": ".py",
   "mimetype": "text/x-python",
   "name": "python",
   "nbconvert_exporter": "python",
   "pygments_lexer": "ipython3",
   "version": "3.10.14"
  },
  "vscode": {
   "interpreter": {
    "hash": "1f4a227f2552de404565d6626d9115986c409361ad6ef0bf195ad88ccd012b73"
   }
  }
 },
 "nbformat": 4,
 "nbformat_minor": 5
}
