{
 "cells": [
  {
   "cell_type": "markdown",
   "id": "684a86f0-4a43-4e87-9c49-30f6f1349981",
   "metadata": {
    "tags": []
   },
   "source": [
    "# <B> Anormaly Detection based on AutoEncoder </B>\n",
    "* Container: codna_pytorch_p39"
   ]
  },
  {
   "cell_type": "markdown",
   "id": "5cd77507-9346-4c26-a673-754a04757384",
   "metadata": {
    "tags": []
   },
   "source": [
    "## AutoEncoder based anomaly detection\n",
    "\n",
    "- **RaPP** - Novelty Detection with Reconstruction along Projection Pathway <br>\n",
    "<p align=\"center\">\n",
    "    <img src=\"imgs/rapp-f1.png\" width=\"1100\" height=\"300\" style=\"display: block; margin: 0 auto\"/>\n",
    "</p>\n",
    "<p align=\"center\">\n",
    "    <img src=\"imgs/rapp-f2.png\" width=\"1100\" height=\"300\" style=\"display: block; margin: 0 auto\"/>\n",
    "</p>\n",
    "\n",
    "    * [Ppaer, ICLR 2020] https://openreview.net/attachment?id=HkgeGeBYDB&name=original_pdf\n",
    "    * [Desc, KOREAN] [RaPP](https://makinarocks.github.io/rapp/)\n",
    "    * [Supplement #1] [Autoencoder based Anomaly Detection](https://makinarocks.github.io/Autoencoder-based-anomaly-detection/)\n",
    "    * [Supplement #2] [Reference code (github)](https://github.com/Aiden-Jeon/RaPP)\n",
    "        "
   ]
  },
  {
   "cell_type": "markdown",
   "id": "46f26307-98ec-41ea-8148-9e193a470bc5",
   "metadata": {},
   "source": [
    "## AutoReload"
   ]
  },
  {
   "cell_type": "code",
   "execution_count": null,
   "id": "5f561b1c-8431-45c4-bcb0-ea17c1d4be17",
   "metadata": {
    "tags": []
   },
   "outputs": [],
   "source": [
    "%load_ext autoreload\n",
    "%autoreload 2"
   ]
  },
  {
   "cell_type": "markdown",
   "id": "a95dc633-3beb-4b1d-ac28-e716c045bc23",
   "metadata": {},
   "source": [
    "## parameter store 설정"
   ]
  },
  {
   "cell_type": "code",
   "execution_count": null,
   "id": "d1886719-0ce2-45b6-9de6-64bee85a645f",
   "metadata": {
    "tags": []
   },
   "outputs": [],
   "source": [
    "import boto3\n",
    "from utils.ssm import parameter_store"
   ]
  },
  {
   "cell_type": "code",
   "execution_count": null,
   "id": "bb2d7208-bbb5-45c3-baa7-7c8d6997a4aa",
   "metadata": {
    "tags": []
   },
   "outputs": [],
   "source": [
    "strRegionName=boto3.Session().region_name\n",
    "pm = parameter_store(strRegionName)\n",
    "strPrefix = pm.get_params(key=\"PREFIX\")"
   ]
  },
  {
   "cell_type": "markdown",
   "id": "8fa3a430-c567-4c99-8b97-ffc8fb314677",
   "metadata": {},
   "source": [
    "## pramamters for tasks"
   ]
  },
  {
   "cell_type": "code",
   "execution_count": null,
   "id": "a6765960-1392-45a6-8282-931863e616e5",
   "metadata": {
    "tags": []
   },
   "outputs": [],
   "source": [
    "strAccountId = pm.get_params(key=\"-\".join([strPrefix, \"ACCOUNT-ID\"]))\n",
    "strBucketName = pm.get_params(key=\"-\".join([strPrefix, \"BUCKET\"]))\n",
    "strExecutionRole = pm.get_params(key=\"-\".join([strPrefix, \"SAGEMAKER-ROLE-ARN\"]))\n",
    "strS3DataPath = pm.get_params(key=\"-\".join([strPrefix, \"S3-DATA-PATH\"]))"
   ]
  },
  {
   "cell_type": "code",
   "execution_count": null,
   "id": "0f444b11-5c4c-4b8d-8a88-cfec56eb291f",
   "metadata": {
    "tags": []
   },
   "outputs": [],
   "source": [
    "print (f\"prefix: {strPrefix}\")\n",
    "print (f\"account_id: {strAccountId}\")\n",
    "print (f\"defaulut_bucket: {strBucketName}\")\n",
    "print (f\"sagemaker_role: {strExecutionRole}\")\n",
    "print (f\"s3_data_path: {strS3DataPath}\")"
   ]
  },
  {
   "cell_type": "markdown",
   "id": "e67b09d6-c2cd-4c8e-891b-79b64a5363c0",
   "metadata": {},
   "source": [
    "## 1. Data manipulation and visualization"
   ]
  },
  {
   "cell_type": "code",
   "execution_count": null,
   "id": "15c5b220-1552-49e5-8401-ede8d058f181",
   "metadata": {
    "tags": []
   },
   "outputs": [],
   "source": [
    "import os\n",
    "import pandas as pd\n",
    "from utils.util import plot_click_w_fault_and_res, plot_click_w_fault_res_ad, plot_click_w_ad_exp"
   ]
  },
  {
   "cell_type": "markdown",
   "id": "6bfd1324-6275-4988-a4c2-e97ee93ebff6",
   "metadata": {},
   "source": [
    "* load data and derive features"
   ]
  },
  {
   "cell_type": "code",
   "execution_count": null,
   "id": "efe09a26-5485-43c3-a9c0-121231ec3fd4",
   "metadata": {
    "tags": []
   },
   "outputs": [],
   "source": [
    "clicks_1T = pd.read_csv(os.path.join(strS3DataPath, \"clicks_1T.csv\"), parse_dates=[\"timestamp\"]).set_index(\"timestamp\")\n",
    "clicks_1T[\"residual\"] = clicks_1T['click'] - clicks_1T['user'] \n",
    "clicks_1T[\"fault\"] = pd.read_csv(os.path.join(strS3DataPath, \"fault_label_1T.csv\"), header=None).values[0] ## label\n",
    "clicks_1T[\"time\"] = [int(str(time).split(\" \")[1].split(\":\")[0]) for time in clicks_1T.index] ## time variable"
   ]
  },
  {
   "cell_type": "code",
   "execution_count": null,
   "id": "dd391328-02b8-452c-9612-73366ad3ae01",
   "metadata": {
    "tags": []
   },
   "outputs": [],
   "source": [
    "print (f'data shape: {clicks_1T.shape}')\n",
    "print (f'timestamp min: {clicks_1T.index.min()}, max: {clicks_1T.index.max()}')"
   ]
  },
  {
   "cell_type": "markdown",
   "id": "9f3e019a-9a7d-447e-b6bc-552ae7f6bf46",
   "metadata": {},
   "source": [
    "* visualization"
   ]
  },
  {
   "cell_type": "code",
   "execution_count": null,
   "id": "e4261502-a0ec-4aa5-8335-9c22fd954c1f",
   "metadata": {
    "tags": []
   },
   "outputs": [],
   "source": [
    "plot_click_w_fault_and_res(clicks_1T)"
   ]
  },
  {
   "cell_type": "markdown",
   "id": "6a36c326-2f97-46e8-a71c-418592e2cb81",
   "metadata": {},
   "source": [
    "* upload data to s3 and local"
   ]
  },
  {
   "cell_type": "code",
   "execution_count": null,
   "id": "b63b3125-cce0-4c13-b9b7-1799527149cf",
   "metadata": {
    "tags": []
   },
   "outputs": [],
   "source": [
    "strTrainDataName = \"merged_clicks_1T.csv\"\n",
    "clicks_1T.to_csv(os.path.join(strS3DataPath, strTrainDataName), index=True) # to s3\n",
    "clicks_1T.to_csv(os.path.join(\"./data\", strTrainDataName), index=True) # to local\n",
    "\n",
    "print (f'train_data_name: {strTrainDataName}')"
   ]
  },
  {
   "cell_type": "markdown",
   "id": "9d61ae15-6bab-400d-9f67-fea2182c527e",
   "metadata": {},
   "source": [
    "## 2. Processing-job for preprocessing"
   ]
  },
  {
   "cell_type": "code",
   "execution_count": null,
   "id": "ac7ba27a-2de5-4ab7-80b6-01ee4831d0b6",
   "metadata": {
    "tags": []
   },
   "outputs": [],
   "source": [
    "import os\n",
    "import sagemaker\n",
    "from sagemaker.pytorch.estimator import PyTorch\n",
    "from sagemaker.processing import ProcessingInput, ProcessingOutput, FrameworkProcessor"
   ]
  },
  {
   "cell_type": "markdown",
   "id": "70a18962-142b-4121-b336-8514f6da4e22",
   "metadata": {},
   "source": [
    "* params for processing job"
   ]
  },
  {
   "cell_type": "code",
   "execution_count": null,
   "id": "9e2a6f68-4969-4601-9327-771a710e281e",
   "metadata": {
    "tags": []
   },
   "outputs": [],
   "source": [
    "local_mode = True\n",
    "\n",
    "if local_mode: \n",
    "    strInstanceType = 'local_gpu'\n",
    "    \n",
    "    import os\n",
    "    from sagemaker.local import LocalSession\n",
    "    \n",
    "    sagemaker_session = LocalSession()\n",
    "    strDataPath = str(os.path.join(\"file://\", os.getcwd(), \"data\"))\n",
    "    \n",
    "else:\n",
    "    strInstanceType = \"ml.m5.xlarge\"\n",
    "    sagemaker_session = sagemaker.Session()\n",
    "    strDataPath = strS3DataPath\n",
    "        \n",
    "print (f\"instance-type: {strInstanceType}\")\n",
    "print (f'role: {strExecutionRole}')\n",
    "print (f\"bucket: {strBucketName}\")\n",
    "print (f\"dataset-path: {strDataPath}\")\n",
    "print (f\"sagemaker_session: {sagemaker_session}\")"
   ]
  },
  {
   "cell_type": "markdown",
   "id": "4f6e04e6-518f-4cf5-ab9f-77047891fd66",
   "metadata": {},
   "source": [
    "* Define processing job"
   ]
  },
  {
   "cell_type": "code",
   "execution_count": null,
   "id": "41cd8eac-9930-4901-a8b7-5c8d076ba15d",
   "metadata": {
    "tags": []
   },
   "outputs": [],
   "source": [
    "dataset_processor = FrameworkProcessor(\n",
    "    estimator_cls=PyTorch,\n",
    "    framework_version=\"2.0.0\",\n",
    "    py_version=\"py310\",\n",
    "    image_uri=None,\n",
    "    instance_type=strInstanceType,\n",
    "    instance_count=1,\n",
    "    role=strExecutionRole,\n",
    "    base_job_name=\"preprocessing\", # bucket에 보이는 이름 (pipeline으로 묶으면 pipeline에서 정의한 이름으로 bucket에 보임)\n",
    "    sagemaker_session=sagemaker_session\n",
    ")\n",
    "\n",
    "strProcPrefix = \"/opt/ml/processing\"\n",
    "\n",
    "strOutputPath = os.path.join(\n",
    "    \"s3://{}\".format(strBucketName),\n",
    "    strPrefix,\n",
    "    \"preprocessing\",\n",
    "    \"output\"\n",
    ")\n",
    "\n",
    "nShingleSize = 4"
   ]
  },
  {
   "cell_type": "code",
   "execution_count": null,
   "id": "e94ee37b-56a4-4031-a914-8b77fca789fb",
   "metadata": {
    "tags": []
   },
   "outputs": [],
   "source": [
    "print (f'strOutputPath: {strOutputPath}')\n",
    "print (f'nShingleSize: {nShingleSize}')"
   ]
  },
  {
   "cell_type": "code",
   "execution_count": null,
   "id": "3dab4a12-be82-41a7-8f80-31c56010c624",
   "metadata": {
    "tags": []
   },
   "outputs": [],
   "source": [
    "dataset_processor.run(\n",
    "    #job_name=\"preprocessing\", ## 이걸 넣어야 캐시가 작동함, 안그러면 프로세서의 base_job_name 이름뒤에 날짜 시간이 붙어서 캐시 동작 안함\n",
    "    #git_config=git_config,\n",
    "    code='preprocessing.py', #소스 디렉토리 안에서 파일 path\n",
    "    source_dir= \"./src/preprocessing\", #현재 파일에서 소스 디렉토리 상대경로 # add processing.py and requirements.txt here\n",
    "    inputs=[\n",
    "        ProcessingInput(\n",
    "            input_name=\"input-data\",\n",
    "            source=strDataPath,\n",
    "            destination=os.path.join(strProcPrefix, \"input\")\n",
    "        ),\n",
    "    ],\n",
    "    outputs=[       \n",
    "        ProcessingOutput(\n",
    "            output_name=\"output-data\",\n",
    "            source=os.path.join(strProcPrefix, \"output\"),\n",
    "            destination=strOutputPath\n",
    "        ),\n",
    "    ],\n",
    "    arguments=[\n",
    "        \"--proc_prefix\", strProcPrefix, \\\n",
    "        \"--shingle_size\", str(nShingleSize), \\\n",
    "        \"--train_data_name\", strTrainDataName\n",
    "    ]\n",
    ")"
   ]
  },
  {
   "cell_type": "markdown",
   "id": "c59623b6-df52-4d06-ad02-fe28ea8abad7",
   "metadata": {},
   "source": [
    "* download preprocessed data to local"
   ]
  },
  {
   "cell_type": "code",
   "execution_count": null,
   "id": "81654bc2-14ef-4153-9361-f43151b96459",
   "metadata": {
    "tags": []
   },
   "outputs": [],
   "source": [
    "!aws s3 sync $strOutputPath ./data/preprocessing --quiet"
   ]
  },
  {
   "cell_type": "markdown",
   "id": "06d5f799-46ad-4190-b511-f2ed4599bfb6",
   "metadata": {},
   "source": [
    "* save params"
   ]
  },
  {
   "cell_type": "code",
   "execution_count": null,
   "id": "86342d61-60aa-4b12-91b7-bb693babe417",
   "metadata": {
    "tags": []
   },
   "outputs": [],
   "source": [
    "pm.put_params(key=\"-\".join([strPrefix, \"PREP-DATA-PATH\"]), value=strOutputPath, overwrite=True)\n",
    "print (f'S3-PREP-DATA-PATH: {pm.get_params(key=\"-\".join([strPrefix, \"PREP-DATA-PATH\"]))}')"
   ]
  },
  {
   "cell_type": "markdown",
   "id": "8a90fd17-c3f1-4fe2-8b06-0b55f7b0ac8d",
   "metadata": {},
   "source": [
    "## 3. Training-job for anomaly detection"
   ]
  },
  {
   "cell_type": "markdown",
   "id": "b1759985-42ec-4195-8fe8-15710fb4517a",
   "metadata": {},
   "source": [
    "* check gpu"
   ]
  },
  {
   "cell_type": "code",
   "execution_count": null,
   "id": "3e37cc69-a15e-4e99-ad6d-9c63c1673958",
   "metadata": {
    "tags": []
   },
   "outputs": [],
   "source": [
    "if torch.cuda.is_available():\n",
    "    for i in range(torch.cuda.device_count()):\n",
    "        print(f\"# DEVICE {i}: {torch.cuda.get_device_name(i)}\")\n",
    "        print(\"- Memory Usage:\")\n",
    "        print(f\"  Allocated: {round(torch.cuda.memory_allocated(i)/1024**3,1)} GB\")\n",
    "        print(f\"  Cached:    {round(torch.cuda.memory_reserved(i)/1024**3,1)} GB\\n\")\n",
    "        \n",
    "else:\n",
    "    print(\"# GPU is not available\")\n",
    "    \n",
    "# GPU 할당 변경하기\n",
    "GPU_NUM = 0 # 원하는 GPU 번호 입력\n",
    "device = torch.device(f'cuda:{GPU_NUM}' if torch.cuda.is_available() else 'cpu')\n",
    "torch.cuda.set_device(device) # change allocation of current GPU\n",
    "\n",
    "print ('# Current cuda device: ', torch.cuda.current_device()) # check"
   ]
  },
  {
   "cell_type": "code",
   "execution_count": null,
   "id": "0d1fcc20-899c-40d9-8f94-abada550eb6b",
   "metadata": {
    "tags": []
   },
   "outputs": [],
   "source": [
    "import os\n",
    "from sagemaker.pytorch.estimator import PyTorch\n",
    "from sagemaker.inputs import TrainingInput"
   ]
  },
  {
   "cell_type": "markdown",
   "id": "1bbef072-28bf-4280-891c-d1838ae11a8b",
   "metadata": {
    "tags": []
   },
   "source": [
    "* **Set Up SageMaker Experiment**\n",
    "    - Create or load [SageMaker Experiment](https://docs.aws.amazon.com/sagemaker/latest/dg/experiments.html) for the example training job. This will create an experiment trial object in SageMaker.\n",
    "    - **pip instatll sagemaker-experiments**"
   ]
  },
  {
   "cell_type": "code",
   "execution_count": null,
   "id": "58317b40-56d8-4860-9709-dc18c4fe9c1a",
   "metadata": {
    "tags": []
   },
   "outputs": [],
   "source": [
    "from time import strftime\n",
    "from smexperiments.trial import Trial\n",
    "from smexperiments.experiment import Experiment"
   ]
  },
  {
   "cell_type": "code",
   "execution_count": null,
   "id": "02c8bc3f-3178-4a7f-8d6d-727c1fe5ede0",
   "metadata": {
    "tags": []
   },
   "outputs": [],
   "source": [
    "def create_experiment(experiment_name):\n",
    "    try:\n",
    "        sm_experiment = Experiment.load(experiment_name)\n",
    "    except:\n",
    "        sm_experiment = Experiment.create(experiment_name=experiment_name)"
   ]
  },
  {
   "cell_type": "code",
   "execution_count": null,
   "id": "f9e73559-9b52-4df0-b627-8bab6e350540",
   "metadata": {
    "tags": []
   },
   "outputs": [],
   "source": [
    "def create_trial(experiment_name):\n",
    "    create_date = strftime(\"%m%d-%H%M%s\")\n",
    "    sm_trial = Trial.create(trial_name=f'{experiment_name}-{create_date}',\n",
    "                            experiment_name=experiment_name)\n",
    "\n",
    "    job_name = f'{sm_trial.trial_name}'\n",
    "    return job_name"
   ]
  },
  {
   "cell_type": "markdown",
   "id": "a3f1a1c4-a508-429a-84f7-981c35d1e3d7",
   "metadata": {
    "tags": []
   },
   "source": [
    "* params for training job"
   ]
  },
  {
   "cell_type": "code",
   "execution_count": null,
   "id": "6ed93fb8-0d43-4c4f-b6b9-87154ebab8a9",
   "metadata": {
    "tags": []
   },
   "outputs": [],
   "source": [
    "# Set to True to enable SageMaker to run locally\n",
    "local_mode = False\n",
    "\n",
    "if local_mode:\n",
    "    strInstanceType = \"local_gpu\"\n",
    "    \n",
    "    import os\n",
    "    from sagemaker.local import LocalSession\n",
    "    \n",
    "    sagemaker_session = LocalSession()\n",
    "    sagemaker_session.config = {'local': {'local_code': True}}\n",
    "    \n",
    "    strLocalDataDir = os.getcwd() + '/data/preprocessing'\n",
    "    dicDataChannels = {\n",
    "        \"train\": f\"file://{strLocalDataDir}\",\n",
    "        \"validation\": f\"file://{strLocalDataDir}\"\n",
    "    }\n",
    "    \n",
    "else:\n",
    "    \n",
    "    strInstanceType = \"ml.g4dn.2xlarge\" #\"ml.p3.2xlarge\"#\"ml.g4dn.8xlarge\"#\"ml.p3.2xlarge\", 'ml.p3.16xlarge' , ml.g4dn.8xlarge\n",
    "    \n",
    "    sagemaker_session = sagemaker.Session()\n",
    "    dicDataChannels = {\n",
    "        \"train\": pm.get_params(key=\"-\".join([strPrefix, \"PREP-DATA-PATH\"])),\n",
    "        \"validation\": pm.get_params(key=\"-\".join([strPrefix, \"PREP-DATA-PATH\"]))\n",
    "    }\n",
    "\n",
    "dicHyperParams = {\n",
    "    \"epochs\":\"150\",\n",
    "    \"batch_size\":\"128\", \n",
    "    \"lr\":\"1e-2\",\n",
    "    \"shingle_size\":\"4\",\n",
    "    \"num_features\":\"4\",\n",
    "    \"emb_size\":\"4\",\n",
    "    \"workers\":\"2\"\n",
    "}\n",
    "\n",
    "nInstanceCount = 1\n",
    "\n",
    "bSpotTraining = False\n",
    "if bSpotTraining:\n",
    "    nMaxWait = 1*60*60\n",
    "    nMaxRun = 1*60*60\n",
    "    \n",
    "else:\n",
    "    nMaxWait = None\n",
    "    nMaxRun = 1*60*60\n",
    "\n",
    "bUseTrainWarmPool = False ## training image 다운받지 않음, 속도 빨라진다\n",
    "if bUseTrainWarmPool: nKeepAliveSeconds = 3600 ## 최대 1시간 동안!!, service quota에서 warmpool을 위한 request 필요\n",
    "else: nKeepAliveSeconds = None\n",
    "if bSpotTraining:\n",
    "    bUseTrainWarmPool = False # warmpool은 spot instance 사용시 활용 할 수 없음\n",
    "    nKeepAliveSeconds = None\n",
    "    \n",
    "    \n",
    "strProcPrefix = \"/opt/ml/processing\"\n",
    "\n",
    "strOutputPath = os.path.join(\n",
    "    \"s3://{}\".format(strBucketName),\n",
    "    strPrefix,\n",
    "    \"training\",\n",
    "    \"model-output\"\n",
    ")\n",
    "\n",
    "strCodeLocation = os.path.join(\n",
    "    \"s3://{}\".format(strBucketName),\n",
    "    strPrefix,\n",
    "    \"training\",\n",
    "    \"backup_codes\"\n",
    ")\n",
    "\n",
    "strExperimentName = '-'.join([strPrefix, \"experiments\"])\n",
    "\n",
    "num_re = \"([0-9\\\\.]+)(e-?[[01][0-9])?\"\n",
    "metric_definitions = [\n",
    "    {\"Name\": \"Train loss\", \"Regex\": f\"loss={num_re}\"},\n",
    "    {\"Name\": \"Train cos\", \"Regex\": f\"wer:{num_re}\"},\n",
    "    {\"Name\": \"Val cos\", \"Regex\": f\"wer:{num_re}\"}\n",
    "]\n",
    "\n",
    "kwargs = {}"
   ]
  },
  {
   "cell_type": "code",
   "execution_count": null,
   "id": "6e72cd01-76cf-4a6e-a517-8429f7934966",
   "metadata": {
    "tags": []
   },
   "outputs": [],
   "source": [
    "print (f'local_mode: {local_mode}')\n",
    "print (f'sagemaker_session: {sagemaker_session}')\n",
    "print (f'strInstanceType: {strInstanceType}')\n",
    "print (f'dicDataChannels: {dicDataChannels}')\n",
    "print (f'strOutputPath: {strOutputPath}')"
   ]
  },
  {
   "cell_type": "markdown",
   "id": "75f4ba72-53d8-4e39-b515-18b3dab5b45f",
   "metadata": {},
   "source": [
    "* Define training job"
   ]
  },
  {
   "cell_type": "code",
   "execution_count": null,
   "id": "dae97a70-63d3-4988-8c05-069a975cc5b0",
   "metadata": {
    "tags": []
   },
   "outputs": [],
   "source": [
    "estimator = PyTorch(\n",
    "    entry_point=\"main.py\", # the script we want to run\n",
    "    source_dir=\"./src/training\", # where our conf/script is\n",
    "    #git_config=git_config,\n",
    "    role=strExecutionRole,\n",
    "    instance_type=strInstanceType,\n",
    "    instance_count=nInstanceCount,\n",
    "    image_uri=None,\n",
    "    framework_version=\"2.0.0\",#\"1.13.1\", # version of PyTorch\n",
    "    py_version=\"py310\",#\"py39\",\n",
    "    volume_size=256,\n",
    "    code_location = strCodeLocation,\n",
    "    output_path=strOutputPath,\n",
    "    disable_profiler=True,\n",
    "    debugger_hook_config=False,\n",
    "    hyperparameters=dicHyperParams, #{'config-path': 'conf'},\n",
    "    #distribution={\"smdistributed\":{\"dataparallel\":{\"enabled\":True, \"fp16\": True}}},\n",
    "    sagemaker_session=sagemaker_session,\n",
    "    metric_definitions=metric_definitions,\n",
    "    max_run=nMaxRun,\n",
    "    use_spot_instances=bSpotTraining,  # spot instance 활용\n",
    "    max_wait=nMaxWait,\n",
    "    keep_alive_period_in_seconds=nKeepAliveSeconds,\n",
    "    enable_sagemaker_metrics=True,\n",
    "    **kwargs\n",
    ")"
   ]
  },
  {
   "cell_type": "code",
   "execution_count": null,
   "id": "e6b34150-5dec-40e4-bd8f-20dc051dce9a",
   "metadata": {
    "tags": []
   },
   "outputs": [],
   "source": [
    "if strInstanceType =='local_gpu': estimator.checkpoint_s3_uri = None\n",
    "\n",
    "create_experiment(strExperimentName)\n",
    "job_name = create_trial(strExperimentName)\n",
    "\n",
    "estimator.fit(\n",
    "    inputs=dicDataChannels, \n",
    "    job_name=job_name,\n",
    "    experiment_config={\n",
    "      'TrialName': job_name,\n",
    "      'TrialComponentDisplayName': job_name,\n",
    "    },\n",
    "    wait=True,\n",
    ")"
   ]
  },
  {
   "cell_type": "code",
   "execution_count": null,
   "id": "17274e02-da45-465b-b14d-52015f53c8e3",
   "metadata": {
    "tags": []
   },
   "outputs": [],
   "source": [
    "print (f'model data: {estimator.model_data}')"
   ]
  },
  {
   "cell_type": "markdown",
   "id": "55832529-1b0f-4b47-9e5a-eaa66d2d162e",
   "metadata": {},
   "source": [
    "* save params"
   ]
  },
  {
   "cell_type": "code",
   "execution_count": null,
   "id": "87b21995-7369-4a1a-a4ef-a896534d04c2",
   "metadata": {
    "tags": []
   },
   "outputs": [],
   "source": [
    "pm.put_params(key=\"-\".join([strPrefix, \"S3-MODEL-ARTIFACT\"]), value=estimator.model_data, overwrite=True)\n",
    "print (f'S3-MODEL-ARTIFACT: {pm.get_params(key=\"-\".join([strPrefix, \"S3-MODEL-ARTIFACT\"]))}')"
   ]
  },
  {
   "cell_type": "markdown",
   "id": "a880e03f-232f-4f27-93bf-ea3b37f8a54d",
   "metadata": {},
   "source": [
    "## 4. Deploy"
   ]
  },
  {
   "cell_type": "markdown",
   "id": "56e97582-ebb5-4682-bceb-958643b8df50",
   "metadata": {},
   "source": [
    "* params for deployment"
   ]
  },
  {
   "cell_type": "code",
   "execution_count": null,
   "id": "65441f49-6db7-42db-b19c-fc1e5a544a6e",
   "metadata": {
    "tags": []
   },
   "outputs": [],
   "source": [
    "import time"
   ]
  },
  {
   "cell_type": "code",
   "execution_count": null,
   "id": "6fd4156d-9a7a-451f-a902-2efb283c2e19",
   "metadata": {
    "tags": []
   },
   "outputs": [],
   "source": [
    "# Set to True to enable SageMaker to run locally\n",
    "local_mode = False\n",
    "\n",
    "if local_mode:\n",
    "    strInstanceType = \"local_gpu\"\n",
    "    \n",
    "    import os\n",
    "    from sagemaker.local import LocalSession\n",
    "    \n",
    "    sagemaker_session = LocalSession()\n",
    "    sagemaker_session.config = {'local': {'local_code': True}}\n",
    "    \n",
    "else:\n",
    "    strInstanceType = \"ml.g4dn.2xlarge\" #\"ml.p3.2xlarge\"#\"ml.g4dn.8xlarge\"#\"ml.p3.2xlarge\", 'ml.p3.16xlarge' , ml.g4dn.8xlarge\n",
    "    sagemaker_session = sagemaker.Session()\n",
    "    \n",
    "strEndpointName = f\"endpoint-{strPrefix}-{int(time.time())}\"\n",
    "    \n",
    "print (f'instance_type: {strInstanceType}')\n",
    "print (f'sagemaker_session: {sagemaker_session}')\n",
    "print (f\"Endpoint-name: {strEndpointName}\")"
   ]
  },
  {
   "cell_type": "markdown",
   "id": "a1b23809-20ed-4059-9c74-9fc288a139d7",
   "metadata": {},
   "source": [
    "* deploy"
   ]
  },
  {
   "cell_type": "code",
   "execution_count": null,
   "id": "d559dd0f-af8e-4f36-a20c-61a119c2eb37",
   "metadata": {
    "tags": []
   },
   "outputs": [],
   "source": [
    "from sagemaker.pytorch.model import PyTorchModel\n",
    "from sagemaker.serializers import CSVSerializer, NumpySerializer, JSONSerializer\n",
    "from sagemaker.deserializers import JSONDeserializer, NumpyDeserializer"
   ]
  },
  {
   "cell_type": "code",
   "execution_count": null,
   "id": "4217445a-0ce9-4c61-81b7-ff7daeb54b53",
   "metadata": {
    "tags": []
   },
   "outputs": [],
   "source": [
    "pm.get_params(key=\"-\".join([strPrefix, \"S3-MODEL-ARTIFACT\"]))"
   ]
  },
  {
   "cell_type": "code",
   "execution_count": null,
   "id": "f056bd6e-863f-47fc-9992-0a411c0949f8",
   "metadata": {
    "tags": []
   },
   "outputs": [],
   "source": [
    "esimator = PyTorchModel(\n",
    "    source_dir=\"./src/deploy\",\n",
    "    entry_point=\"inference.py\",\n",
    "    model_data=pm.get_params(key=\"-\".join([strPrefix, \"S3-MODEL-ARTIFACT\"])),\n",
    "    role=strExecutionRole,\n",
    "    framework_version='2.0.0',\n",
    "    py_version='py310',\n",
    "    model_server_workers=1,\n",
    ")"
   ]
  },
  {
   "cell_type": "code",
   "execution_count": null,
   "id": "71157678-ab8e-4780-89b5-1937f0903ced",
   "metadata": {
    "tags": []
   },
   "outputs": [],
   "source": [
    "predictor = esimator.deploy(\n",
    "    endpoint_name=strEndpointName,\n",
    "    instance_type=strInstanceType, \n",
    "    initial_instance_count=1,\n",
    "    serializer=JSONSerializer('application/json'), ## 미적용 시 default: application/x-npy, boto3 기반 invocation시 무시\n",
    "    deserializer=JSONDeserializer('application/json'), ## 미적용 시 default: application/x-npy, boto3 기반 invocation시 무시\n",
    "    wait=False,  \n",
    "    log=True,\n",
    ")"
   ]
  },
  {
   "cell_type": "code",
   "execution_count": null,
   "id": "dd112a79-90f4-438e-bac2-cde36d222869",
   "metadata": {
    "tags": []
   },
   "outputs": [],
   "source": [
    "strEndpointName"
   ]
  },
  {
   "cell_type": "markdown",
   "id": "81ec3b40-cf8c-4a01-98be-f19fb59b8c23",
   "metadata": {},
   "source": [
    "* inference (invocation)"
   ]
  },
  {
   "cell_type": "code",
   "execution_count": null,
   "id": "18fa4e5f-9bc4-4f45-845c-ca1825d713a5",
   "metadata": {
    "tags": []
   },
   "outputs": [],
   "source": [
    "import pickle"
   ]
  },
  {
   "cell_type": "code",
   "execution_count": null,
   "id": "88aa380d-406a-4963-aeab-f721c86521d8",
   "metadata": {
    "tags": []
   },
   "outputs": [],
   "source": [
    "def from_pickle(obj_path):\n",
    "    with open(file=obj_path, mode=\"rb\") as f:\n",
    "        obj=pickle.load(f)\n",
    "    return obj"
   ]
  },
  {
   "cell_type": "code",
   "execution_count": null,
   "id": "eda8aa7b-e227-420c-877e-d02526815c86",
   "metadata": {
    "tags": []
   },
   "outputs": [],
   "source": [
    "data_path = \"./data/preprocessing/data_x_scaled_shingle.pkl\"\n",
    "data = from_pickle(data_path)\n",
    "data = data[3, :]\n",
    "dtype = data.dtype\n",
    "shape = data.shape"
   ]
  },
  {
   "cell_type": "code",
   "execution_count": null,
   "id": "2d2fac67-9bf6-460b-960c-884a4ed16983",
   "metadata": {
    "tags": []
   },
   "outputs": [],
   "source": [
    "print (f'data: {data}')\n",
    "print (f'dtype: {dtype}')\n",
    "print (f'shape: {shape}')"
   ]
  },
  {
   "cell_type": "markdown",
   "id": "cbfc5a8d-2f00-48cb-95c6-db45bd8e28d1",
   "metadata": {
    "tags": []
   },
   "source": [
    "* inference - using sagemaker SDK"
   ]
  },
  {
   "cell_type": "code",
   "execution_count": null,
   "id": "74a291ab-8216-421a-aa02-97d87ae8968a",
   "metadata": {
    "tags": []
   },
   "outputs": [],
   "source": [
    "payload={\"INPUT\": data.tolist(), \"SHAPE\":shape, \"DTYPE\": str(dtype)}\n",
    "#payload = json.dumps(payload)"
   ]
  },
  {
   "cell_type": "code",
   "execution_count": null,
   "id": "698d8cea-9e7a-41be-9b18-b9c7ff339272",
   "metadata": {
    "tags": []
   },
   "outputs": [],
   "source": [
    "pred_results = predictor.predict(payload)\n",
    "pred_results"
   ]
  },
  {
   "cell_type": "markdown",
   "id": "ff4b176d-4d18-4212-b90c-c241c1a5bfff",
   "metadata": {
    "tags": []
   },
   "source": [
    "* inference - using boto3 SDK"
   ]
  },
  {
   "cell_type": "code",
   "execution_count": null,
   "id": "78f16b05-9dcb-4688-82c2-bdb861502f7f",
   "metadata": {
    "tags": []
   },
   "outputs": [],
   "source": [
    "import json\n",
    "import boto3"
   ]
  },
  {
   "cell_type": "markdown",
   "id": "b8f943dd-9997-4949-958f-b229f839da14",
   "metadata": {},
   "source": [
    "### boto3 기반 invocation시 runtime_client가 필요함\n",
    "* 이때 엔드포인트의 위치 (local/cloud)를 반드시 구분해 줘야함"
   ]
  },
  {
   "cell_type": "code",
   "execution_count": null,
   "id": "a9b0bc19-195d-4601-88e7-8120170b5a8b",
   "metadata": {
    "tags": []
   },
   "outputs": [],
   "source": [
    "if strInstanceType == 'local_gpu': runtime_client = sagemaker.local.LocalSagemakerRuntimeClient()    \n",
    "else: runtime_client = boto3.Session().client('sagemaker-runtime')\n",
    "runtime_client"
   ]
  },
  {
   "cell_type": "code",
   "execution_count": null,
   "id": "4414fdfd-6d27-4fad-a4f2-1900c9811b37",
   "metadata": {
    "tags": []
   },
   "outputs": [],
   "source": [
    "endpoint_name = \"endpoint--DJ-SM-PIPELINE-MODEL-1-1721175245\""
   ]
  },
  {
   "cell_type": "code",
   "execution_count": null,
   "id": "2afd5679-ed89-4b5c-8440-ac56e1b24c64",
   "metadata": {
    "tags": []
   },
   "outputs": [],
   "source": [
    "def invoke_endpoint(runtime_client, endpoint_name, payload, content_type):\n",
    "    response = runtime_client.invoke_endpoint(\n",
    "        EndpointName=endpoint_name, \n",
    "        ContentType=content_type, \n",
    "        Body=payload,\n",
    "    )\n",
    "\n",
    "    result = response['Body'].read().decode().splitlines()    \n",
    "    \n",
    "    return result"
   ]
  },
  {
   "cell_type": "markdown",
   "id": "f9e85209-f049-40d2-bda8-7de5f7d73224",
   "metadata": {},
   "source": [
    "### [중요] boto3로 inference 할 때는 payload를 반드시 serialization 해서 넣어줘야 함\n",
    "* sagemaker SDK는 deploy시 셋팅한 방식대로 serialization을 자동으로 해 준다\n",
    "* boto3는 사용자가 직접 serialization을 한 후 inference 한다. (대신 serialization 자유도가 있다)"
   ]
  },
  {
   "cell_type": "code",
   "execution_count": null,
   "id": "a78a1c43-cca4-4a5e-b508-55b8cb22108c",
   "metadata": {
    "tags": []
   },
   "outputs": [],
   "source": [
    "payload = json.dumps(payload)"
   ]
  },
  {
   "cell_type": "code",
   "execution_count": null,
   "id": "58898f29-49f3-4550-9517-8808bbafbdca",
   "metadata": {
    "tags": []
   },
   "outputs": [],
   "source": [
    "start_time = time.time()\n",
    "result = invoke_endpoint(\n",
    "    runtime_client=runtime_client,\n",
    "    endpoint_name=strEndpointName, \n",
    "    payload=payload,\n",
    "    content_type='application/json'\n",
    ")\n",
    "\n",
    "print(\"--- %s seconds ---\" % (time.time() - start_time))\n",
    "print('result: ',  eval(result[0]))"
   ]
  },
  {
   "cell_type": "markdown",
   "id": "153a2110-b694-4cbd-ae7d-bf8a07a02505",
   "metadata": {},
   "source": [
    "* get anomaly scores"
   ]
  },
  {
   "cell_type": "code",
   "execution_count": null,
   "id": "62595d52-beea-4c8e-8c54-3487510a9f95",
   "metadata": {
    "tags": []
   },
   "outputs": [],
   "source": [
    "data_path = \"./data/preprocessing/data_x_scaled_shingle.pkl\"\n",
    "data = from_pickle(data_path)"
   ]
  },
  {
   "cell_type": "code",
   "execution_count": null,
   "id": "1ab0539e-e3d0-4df3-b712-d1b968ee67dd",
   "metadata": {
    "tags": []
   },
   "outputs": [],
   "source": [
    "%%time\n",
    "pred_results = []\n",
    "for idx, record in enumerate(data):\n",
    "    payload={\"INPUT\": record.tolist(), \"SHAPE\":shape, \"DTYPE\": str(dtype)}\n",
    "    pred = predictor.predict(payload)\n",
    "    pred_results.append(pred['pred'][0])\n",
    "    if idx % 1000 == 0: print (f'{idx}/{data.shape[0]}')"
   ]
  },
  {
   "cell_type": "code",
   "execution_count": null,
   "id": "39fd4813-a1a4-4bb1-9813-caca529fdf4a",
   "metadata": {
    "tags": []
   },
   "outputs": [],
   "source": [
    "pdScores = pd.DataFrame(pred_results)"
   ]
  },
  {
   "cell_type": "code",
   "execution_count": null,
   "id": "6c638501-4fb0-4513-af25-4cf15a43cd13",
   "metadata": {
    "tags": []
   },
   "outputs": [],
   "source": [
    "pdScores"
   ]
  },
  {
   "cell_type": "code",
   "execution_count": null,
   "id": "1d3169e9-128b-4aac-b083-2fb876e64651",
   "metadata": {
    "tags": []
   },
   "outputs": [],
   "source": [
    "strDataPath = \"./data/preprocessing/data_y_shingle.pkl\"\n",
    "npTrainShingle_y = from_pickle(strDataPath)\n",
    "\n",
    "#train_data_ratio = 0.99\n",
    "#nShingleSize = 4\n",
    "pdTrain_raw = clicks_1T[[\"page\", \"user\", \"click\", \"residual\", \"fault\"]].iloc[nShingleSize-1:, :]\n",
    "pdTrain_raw = pdTrain_raw.rename(columns={\"page\": \"url\"})\n",
    "print (f\"train_y_shingle: {npTrainShingle_y.shape}\")"
   ]
  },
  {
   "cell_type": "code",
   "execution_count": null,
   "id": "ee97bbdf-e6e8-4fa5-bfd6-1eadc449dc0c",
   "metadata": {
    "tags": []
   },
   "outputs": [],
   "source": [
    "pdScores.index = pdTrain_raw.index"
   ]
  },
  {
   "cell_type": "code",
   "execution_count": null,
   "id": "ddd88e86-24f2-4bba-9174-5bf3a2fed0f4",
   "metadata": {
    "tags": []
   },
   "outputs": [],
   "source": [
    "pdScores = pd.concat([pdTrain_raw, pdScores], axis=1)"
   ]
  },
  {
   "cell_type": "code",
   "execution_count": null,
   "id": "0a833f88-4d49-4932-a219-c9c757969dae",
   "metadata": {
    "tags": []
   },
   "outputs": [],
   "source": [
    "pdScores"
   ]
  },
  {
   "cell_type": "markdown",
   "id": "594ddc89-45e6-44ac-bc78-3d958a63631b",
   "metadata": {},
   "source": [
    "## 4. Plotting the Prediction\n",
    "\n",
    "Plot the anomalous points detected by AE."
   ]
  },
  {
   "cell_type": "markdown",
   "id": "dcce3912-82bc-4ffd-846f-856320aadf91",
   "metadata": {},
   "source": [
    "###  - For Reconstruction Error"
   ]
  },
  {
   "cell_type": "markdown",
   "id": "d5c025b9-6c2c-4b00-912d-a0184e1d8014",
   "metadata": {
    "tags": []
   },
   "source": [
    "* Check the distribution of our anomaly score."
   ]
  },
  {
   "cell_type": "code",
   "execution_count": null,
   "id": "8c05a755-fb8f-4403-a9bf-e493c8208fb5",
   "metadata": {
    "tags": []
   },
   "outputs": [],
   "source": [
    "import seaborn as sns\n",
    "import matplotlib.pyplot as plt"
   ]
  },
  {
   "cell_type": "code",
   "execution_count": null,
   "id": "52d82b6f-e76b-430e-9ea2-7dc420d60ee3",
   "metadata": {
    "tags": []
   },
   "outputs": [],
   "source": [
    "threshold_re = pdScores['ANOMALY_SCORE'].mean() + 2.5*pdScores['ANOMALY_SCORE'].std()\n",
    "\n",
    "pdPlot = pd.DataFrame(pdScores['ANOMALY_SCORE'])\n",
    "pdPlot.hist(bins=50)\n",
    "plt.axvline(x=threshold_re, linestyle=':', c='r')\n",
    "plt.annotate('threshold={}'.format(round(threshold_re,2)), xy=(threshold_re,6000), color='r')\n",
    "plt.show()\n",
    "\n",
    "print('3 sigma threshoud = {}'.format(threshold_re))"
   ]
  },
  {
   "cell_type": "code",
   "execution_count": null,
   "id": "0c1e434e-dd31-4139-a027-ab1a7c01767a",
   "metadata": {
    "tags": []
   },
   "outputs": [],
   "source": [
    "anomalous = pdScores.query(\"ANOMALY_SCORE > @threshold_re\")\n",
    "stime = \"2020-07-15 09:00:00\" # \"2012-03-13 08:00:00\"\n",
    "etime = \"2020-07-15 20:00:00\" # \"2012-03-13 20:00:00\"\n",
    "plot_click_w_fault_res_ad(pdScores, anomalous, threshold_re, start_dt=stime, end_dt=etime)"
   ]
  },
  {
   "cell_type": "code",
   "execution_count": null,
   "id": "8e7702fe-f6ce-40c1-943f-1eb3de0605e6",
   "metadata": {
    "tags": []
   },
   "outputs": [],
   "source": [
    "plot_click_w_ad_exp(pdScores, anomalous, threshold_re, start_dt=stime, end_dt=etime)"
   ]
  },
  {
   "cell_type": "code",
   "execution_count": null,
   "id": "b629e88a-123e-468a-b877-e4343058ae7b",
   "metadata": {
    "tags": []
   },
   "outputs": [],
   "source": [
    "pdAnomal = pdScores.query(\"ANOMALY_SCORE > @threshold_re\")[[\"ANOMALY_SCORE\", \"URLS_ATTRIBUTION_SCORE\", \"USERS_ATTRIBUTION_SCORE\", \\\n",
    "                                                         \"CLICKS_ATTRIBUTION_SCORE\", \"RESIDUALS_ATTRIBUTION_SCORE\", \"ANOMALY_SCORE_SAP\"]] "
   ]
  },
  {
   "cell_type": "code",
   "execution_count": null,
   "id": "303d35cf-d23e-4c46-b9ca-12bb09f2c91e",
   "metadata": {
    "tags": []
   },
   "outputs": [],
   "source": [
    "plt.figure(figsize = (18,5))\n",
    "fault_types = [0, 1]\n",
    "for fault_type in fault_types:\n",
    "    \n",
    "    if fault_type == 0: label = \"Normal\"\n",
    "    else: label = \"Fault\"\n",
    "    sns.distplot(\n",
    "        pdScores[pdScores.fault==fault_type][\"ANOMALY_SCORE\"],\n",
    "        hist=True,\n",
    "        kde=True,\n",
    "        kde_kws={\"shade\":True, \"linewidth\":3},\n",
    "        label=label,\n",
    "        bins=200\n",
    "    )\n",
    "plt.legend(prop={\"size\":16}, title = \"label\")"
   ]
  },
  {
   "cell_type": "markdown",
   "id": "39ea6023-fbcd-4f03-8c04-f738866b83a0",
   "metadata": {},
   "source": [
    "* performance metric"
   ]
  },
  {
   "cell_type": "code",
   "execution_count": null,
   "id": "dfe6c022-c444-4a4f-8ac6-4b3c85614364",
   "metadata": {
    "tags": []
   },
   "outputs": [],
   "source": [
    "precision = pdScores.query(\"fault == 1 and ANOMALY_SCORE > @threshold_re\").shape[0] / pdScores.query(\"ANOMALY_SCORE > @threshold_re\").shape[0]\n",
    "recall = pdScores.query(\"fault == 1 and ANOMALY_SCORE > @threshold_re\").shape[0] / pdScores.query(\"fault == 1\").shape[0]\n",
    "f1_score = 2*(precision*recall)/(precision+recall)"
   ]
  },
  {
   "cell_type": "code",
   "execution_count": null,
   "id": "654f3c2d-0c6e-4770-9eb8-198b8434ee5a",
   "metadata": {
    "tags": []
   },
   "outputs": [],
   "source": [
    "print (f'Precision: {precision}')\n",
    "print (f'Recall: {recall}')\n",
    "print (f'f1_score: {f1_score}')"
   ]
  },
  {
   "cell_type": "markdown",
   "id": "ce96a699-705e-41bd-9b2e-83bcb93ae423",
   "metadata": {},
   "source": [
    "###  - For SAP Score"
   ]
  },
  {
   "cell_type": "code",
   "execution_count": null,
   "id": "620e65a7-73a3-4b3b-8ac4-c725ae0b978b",
   "metadata": {
    "tags": []
   },
   "outputs": [],
   "source": [
    "threshold_sap = pdScores['ANOMALY_SCORE_SAP'].mean() + 2.5*pdScores['ANOMALY_SCORE_SAP'].std()\n",
    "\n",
    "pdPlot = pd.DataFrame(pdScores['ANOMALY_SCORE_SAP'])\n",
    "pdPlot.hist(bins=50)\n",
    "plt.axvline(x=threshold_sap, linestyle=':', c='r')\n",
    "plt.annotate('threshold={}'.format(round(threshold_sap,2)), xy=(threshold_sap,6000), color='r')\n",
    "plt.show()\n",
    "\n",
    "print('3 sigma threshoud = {}'.format(threshold_sap))"
   ]
  },
  {
   "cell_type": "code",
   "execution_count": null,
   "id": "5f5e0694-f988-4c5b-b815-ed4ce4373e9b",
   "metadata": {
    "tags": []
   },
   "outputs": [],
   "source": [
    "anomalous = pdScores.query(\"ANOMALY_SCORE_SAP > @threshold_sap\")\n",
    "stime = \"2020-07-15 09:00:00\" # \"2012-03-13 08:00:00\"\n",
    "etime = \"2020-07-15 20:00:00\" # \"2012-03-13 20:00:00\"\n",
    "plot_click_w_fault_res_ad(pdScores, anomalous, threshold_sap, start_dt=stime, end_dt=etime)"
   ]
  },
  {
   "cell_type": "code",
   "execution_count": null,
   "id": "b96acc9e-b244-4dc1-9219-036679e36edb",
   "metadata": {
    "tags": []
   },
   "outputs": [],
   "source": [
    "plot_click_w_ad_exp(pdScores, anomalous, threshold_sap, start_dt=stime, end_dt=etime, score=\"ANOMALY_SCORE_SAP\")"
   ]
  },
  {
   "cell_type": "code",
   "execution_count": null,
   "id": "ec6dd11e-f35b-426e-a292-f8959d259eb5",
   "metadata": {
    "tags": []
   },
   "outputs": [],
   "source": [
    "plt.figure(figsize = (18,5))\n",
    "fault_types = [0, 1]\n",
    "for fault_type in fault_types:\n",
    "    \n",
    "    if fault_type == 0: label = \"Normal\"\n",
    "    else: label = \"Fault\"\n",
    "    sns.distplot(\n",
    "        pdScores[pdScores.fault==fault_type][\"ANOMALY_SCORE_SAP\"],\n",
    "        hist=True,\n",
    "        kde=True,\n",
    "        kde_kws={\"shade\":True, \"linewidth\":3},\n",
    "        label=label,\n",
    "        bins=200\n",
    "    )\n",
    "plt.legend(prop={\"size\":16}, title = \"label\")"
   ]
  },
  {
   "cell_type": "code",
   "execution_count": null,
   "id": "e7a51700-a34a-4702-8daf-84960b2a1efc",
   "metadata": {
    "tags": []
   },
   "outputs": [],
   "source": [
    "precision = pdScores.query(\"fault == 1 and ANOMALY_SCORE_SAP > @threshold_sap\").shape[0] / pdScores.query(\"ANOMALY_SCORE_SAP > @threshold_sap\").shape[0]\n",
    "recall = pdScores.query(\"fault == 1 and ANOMALY_SCORE_SAP > @threshold_sap\").shape[0] / pdScores.query(\"fault == 1\").shape[0]\n",
    "f1_score = 2*(precision*recall)/(precision+recall)"
   ]
  },
  {
   "cell_type": "code",
   "execution_count": null,
   "id": "2f5cdfdb-7436-4640-8699-a6d4bec70282",
   "metadata": {
    "tags": []
   },
   "outputs": [],
   "source": [
    "print (f'Precision: {precision}')\n",
    "print (f'Recall: {recall}')\n",
    "print (f'f1_score: {f1_score}')"
   ]
  },
  {
   "cell_type": "markdown",
   "id": "63806c5e-7efa-45a9-ac11-4b581089b1bb",
   "metadata": {},
   "source": [
    "## Clean up"
   ]
  },
  {
   "cell_type": "markdown",
   "id": "077888ff-d9af-4902-a9eb-7a4c6bbda05b",
   "metadata": {},
   "source": [
    "* delete endpoint"
   ]
  },
  {
   "cell_type": "code",
   "execution_count": null,
   "id": "f5f6dd69-a88c-4945-969c-269360c7d54f",
   "metadata": {
    "tags": []
   },
   "outputs": [],
   "source": [
    "class clean_up():\n",
    "    \n",
    "    def __init__(self, ):    \n",
    "        pass\n",
    "    \n",
    "    def delete_endpoint(self, client, endpoint_name ,is_del_model=True):\n",
    "        \n",
    "        response = client.describe_endpoint(EndpointName=endpoint_name)\n",
    "        EndpointConfigName = response['EndpointConfigName']\n",
    "\n",
    "        response = client.describe_endpoint_config(EndpointConfigName=EndpointConfigName)\n",
    "        model_name = response['ProductionVariants'][0]['ModelName']    \n",
    "\n",
    "        if is_del_model: # 모델도 삭제 여부 임.\n",
    "            client.delete_model(ModelName=model_name)    \n",
    "\n",
    "        client.delete_endpoint(EndpointName=endpoint_name)\n",
    "        client.delete_endpoint_config(EndpointConfigName=EndpointConfigName)    \n",
    "\n",
    "        print(f'--- Deleted model: {model_name}')\n",
    "        print(f'--- Deleted endpoint: {endpoint_name}')\n",
    "        print(f'--- Deleted endpoint_config: {EndpointConfigName}')  \n"
   ]
  },
  {
   "cell_type": "code",
   "execution_count": null,
   "id": "d31f5abf-a9a6-4876-8038-344e4c000e7d",
   "metadata": {
    "tags": []
   },
   "outputs": [],
   "source": [
    "clean = clean_up()\n",
    "sm_client = boto3.client('sagemaker')\n",
    "clean.delete_endpoint(sm_client, strEndpointName ,is_del_model=True)"
   ]
  },
  {
   "cell_type": "code",
   "execution_count": null,
   "id": "74162a45-de17-42e3-b829-edc1dcd48fef",
   "metadata": {
    "tags": []
   },
   "outputs": [],
   "source": [
    "if \"local\" in instance_type:\n",
    "    predictor.delete_endpoint(strEndpointName)"
   ]
  },
  {
   "cell_type": "code",
   "execution_count": null,
   "id": "8968e241-8d60-48b4-b02f-b597f94f8a38",
   "metadata": {},
   "outputs": [],
   "source": []
  }
 ],
 "metadata": {
  "kernelspec": {
   "display_name": "conda_pytorch_p310",
   "language": "python",
   "name": "conda_pytorch_p310"
  },
  "language_info": {
   "codemirror_mode": {
    "name": "ipython",
    "version": 3
   },
   "file_extension": ".py",
   "mimetype": "text/x-python",
   "name": "python",
   "nbconvert_exporter": "python",
   "pygments_lexer": "ipython3",
   "version": "3.10.14"
  }
 },
 "nbformat": 4,
 "nbformat_minor": 5
}
